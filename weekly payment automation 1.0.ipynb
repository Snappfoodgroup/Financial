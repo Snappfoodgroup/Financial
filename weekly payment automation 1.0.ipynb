{
 "cells": [
  {
   "cell_type": "code",
   "execution_count": 1,
   "id": "6ce4116e",
   "metadata": {},
   "outputs": [
    {
     "data": {
      "text/html": [
       "<style>.container { width:100% !important; }</style>"
      ],
      "text/plain": [
       "<IPython.core.display.HTML object>"
      ]
     },
     "metadata": {},
     "output_type": "display_data"
    }
   ],
   "source": [
    "from IPython.core.display import display, HTML\n",
    "display(HTML(\"<style>.container { width:100% !important; }</style>\"))"
   ]
  },
  {
   "cell_type": "code",
   "execution_count": 2,
   "id": "e24c2acc",
   "metadata": {},
   "outputs": [],
   "source": [
    "import pandas as pd\n",
    "import os\n",
    "import numpy as np"
   ]
  },
  {
   "cell_type": "code",
   "execution_count": 4,
   "id": "92b3e8d1",
   "metadata": {
    "collapsed": true
   },
   "outputs": [
    {
     "ename": "FileNotFoundError",
     "evalue": "[WinError 3] The system cannot find the path specified: 'E:/Weekly Payments/payment_file'",
     "output_type": "error",
     "traceback": [
      "\u001b[1;31m---------------------------------------------------------------------------\u001b[0m",
      "\u001b[1;31mFileNotFoundError\u001b[0m                         Traceback (most recent call last)",
      "\u001b[1;32mC:\\Users\\SNAPPF~1\\AppData\\Local\\Temp/ipykernel_17964/2777771223.py\u001b[0m in \u001b[0;36m<module>\u001b[1;34m\u001b[0m\n\u001b[1;32m----> 1\u001b[1;33m \u001b[0mfile\u001b[0m\u001b[1;33m=\u001b[0m\u001b[0mos\u001b[0m\u001b[1;33m.\u001b[0m\u001b[0mlistdir\u001b[0m\u001b[1;33m(\u001b[0m\u001b[1;34m'E:/Weekly Payments/payment_file'\u001b[0m\u001b[1;33m)\u001b[0m\u001b[1;33m\u001b[0m\u001b[1;33m\u001b[0m\u001b[0m\n\u001b[0m",
      "\u001b[1;31mFileNotFoundError\u001b[0m: [WinError 3] The system cannot find the path specified: 'E:/Weekly Payments/payment_file'"
     ]
    }
   ],
   "source": [
    "file=os.listdir('E:/Weekly Payments/payment_file')"
   ]
  },
  {
   "cell_type": "code",
   "execution_count": 4,
   "id": "3cb0271e",
   "metadata": {
    "collapsed": true
   },
   "outputs": [
    {
     "data": {
      "text/plain": [
       "['report_1650088444.xlsx']"
      ]
     },
     "execution_count": 4,
     "metadata": {},
     "output_type": "execute_result"
    }
   ],
   "source": [
    "file"
   ]
  },
  {
   "cell_type": "code",
   "execution_count": 5,
   "id": "0731ad3c",
   "metadata": {},
   "outputs": [],
   "source": [
    "data=pd.read_excel('E:/Weekly Payments/payment_file/'+file[0],sheet_name=None)"
   ]
  },
  {
   "cell_type": "code",
   "execution_count": 3,
   "id": "a528d4c9",
   "metadata": {},
   "outputs": [],
   "source": [
    "data=pd.read_excel(r'C:\\Users\\snappfood\\Desktop\\financial\\report_1650088444.xlsx',sheet_name=None)"
   ]
  },
  {
   "cell_type": "code",
   "execution_count": 6,
   "id": "a3c69789",
   "metadata": {
    "collapsed": true
   },
   "outputs": [
    {
     "data": {
      "text/plain": [
       "['tehran', 'no sheba', 'payment']"
      ]
     },
     "execution_count": 6,
     "metadata": {},
     "output_type": "execute_result"
    }
   ],
   "source": [
    "list(data.keys())"
   ]
  },
  {
   "cell_type": "code",
   "execution_count": 4,
   "id": "68ec2ccc",
   "metadata": {
    "collapsed": true
   },
   "outputs": [
    {
     "name": "stdout",
     "output_type": "stream",
     "text": [
      "tehran\n",
      "no sheba\n",
      "payment\n"
     ]
    }
   ],
   "source": [
    "for name in list(data.keys()):\n",
    "    print(name.lower())\n",
    "    data[name.lower()]=data.pop(name)"
   ]
  },
  {
   "cell_type": "code",
   "execution_count": 8,
   "id": "048c1ebe",
   "metadata": {
    "collapsed": true
   },
   "outputs": [
    {
     "data": {
      "text/plain": [
       "dict_keys(['tehran', 'no sheba', 'payment'])"
      ]
     },
     "execution_count": 8,
     "metadata": {},
     "output_type": "execute_result"
    }
   ],
   "source": [
    "data.keys()"
   ]
  },
  {
   "cell_type": "code",
   "execution_count": 5,
   "id": "d548e436",
   "metadata": {},
   "outputs": [],
   "source": [
    "data['tehran'].rename(str.lower, axis='columns', inplace=True)\n",
    "data['payment'].rename(str.lower, axis='columns', inplace=True)\n",
    "data['no sheba'].rename(str.lower, axis='columns', inplace=True)\n",
    "#data['report'].rename(str.lower, axis='columns', inplace=True)"
   ]
  },
  {
   "cell_type": "code",
   "execution_count": 10,
   "id": "4a3728fa",
   "metadata": {},
   "outputs": [
    {
     "data": {
      "text/plain": [
       "Index(['biker id', 'firstname', 'lastname', 'name_family', 'cellphone',\n",
       "       'nationalid', 'sheba number', 'city code', 'morning rides',\n",
       "       'lunch rides', 'dinner rides', 'single trips', 'batched trips',\n",
       "       'express trips', 'batched payable', 'single payable',\n",
       "       'avg payable per trip', 'total incentives', 'extra', 'penalty', 'bonus',\n",
       "       'guarantee', 'map report', 'equipment', 'vendor delay',\n",
       "       'cancellation fee', 'cash cod', 'cash biker request',\n",
       "       'delivery fee biker request', 'lead', 'remained from last week',\n",
       "       'credit', 'total payable'],\n",
       "      dtype='object')"
      ]
     },
     "execution_count": 10,
     "metadata": {},
     "output_type": "execute_result"
    }
   ],
   "source": [
    "data['tehran'].columns"
   ]
  },
  {
   "cell_type": "markdown",
   "id": "688852e3",
   "metadata": {},
   "source": [
    "## 1. Preprocessing"
   ]
  },
  {
   "cell_type": "code",
   "execution_count": 7,
   "id": "92d2c524",
   "metadata": {},
   "outputs": [],
   "source": [
    "import re"
   ]
  },
  {
   "cell_type": "code",
   "execution_count": 11,
   "id": "f90b7025",
   "metadata": {},
   "outputs": [],
   "source": [
    "for i in range(len(data['payment'])):\n",
    "    x=re.search('^i', str(data['payment']['sheba number'].iloc[i]))\n",
    "    if str(type(x))!=str(\"<class 'NoneType'>\"):        \n",
    "        print(x)\n",
    "        print(i)\n",
    "        print(data['payment'][['firstname','lastname']].iloc[i])\n",
    "        print(data['payment']['sheba number'].iloc[i])"
   ]
  },
  {
   "cell_type": "code",
   "execution_count": 6,
   "id": "d0819532",
   "metadata": {
    "collapsed": true
   },
   "outputs": [
    {
     "name": "stdout",
     "output_type": "stream",
     "text": [
      "66\n"
     ]
    },
    {
     "data": {
      "text/html": [
       "<div>\n",
       "<style scoped>\n",
       "    .dataframe tbody tr th:only-of-type {\n",
       "        vertical-align: middle;\n",
       "    }\n",
       "\n",
       "    .dataframe tbody tr th {\n",
       "        vertical-align: top;\n",
       "    }\n",
       "\n",
       "    .dataframe thead th {\n",
       "        text-align: right;\n",
       "    }\n",
       "</style>\n",
       "<table border=\"1\" class=\"dataframe\">\n",
       "  <thead>\n",
       "    <tr style=\"text-align: right;\">\n",
       "      <th></th>\n",
       "      <th>biker id</th>\n",
       "      <th>firstname</th>\n",
       "      <th>lastname</th>\n",
       "      <th>cellphone</th>\n",
       "      <th>nationalid</th>\n",
       "      <th>sheba number</th>\n",
       "      <th>city code</th>\n",
       "      <th>morning rides</th>\n",
       "      <th>lunch rides</th>\n",
       "      <th>dinner rides</th>\n",
       "      <th>...</th>\n",
       "      <th>equipment</th>\n",
       "      <th>vendor delay</th>\n",
       "      <th>cancellation fee</th>\n",
       "      <th>cash cod</th>\n",
       "      <th>cash biker request</th>\n",
       "      <th>delivery fee biker request</th>\n",
       "      <th>lead</th>\n",
       "      <th>remained from last week</th>\n",
       "      <th>credit</th>\n",
       "      <th>total payable</th>\n",
       "    </tr>\n",
       "  </thead>\n",
       "  <tbody>\n",
       "    <tr>\n",
       "      <th>1045</th>\n",
       "      <td>7781.0</td>\n",
       "      <td>حمیدرضا</td>\n",
       "      <td>فرهمند</td>\n",
       "      <td>9.174009e+09</td>\n",
       "      <td>3.660514e+09</td>\n",
       "      <td>IR48013010000000309188520</td>\n",
       "      <td>tehran</td>\n",
       "      <td>0.0</td>\n",
       "      <td>51.0</td>\n",
       "      <td>7.0</td>\n",
       "      <td>...</td>\n",
       "      <td>0.0</td>\n",
       "      <td>28000.0</td>\n",
       "      <td>0.0</td>\n",
       "      <td>0.0</td>\n",
       "      <td>0.0</td>\n",
       "      <td>0.0</td>\n",
       "      <td>0.0</td>\n",
       "      <td>0.0</td>\n",
       "      <td>0.0</td>\n",
       "      <td>768000.0</td>\n",
       "    </tr>\n",
       "    <tr>\n",
       "      <th>1146</th>\n",
       "      <td>10426.0</td>\n",
       "      <td>NaN</td>\n",
       "      <td>علی باقری اصل</td>\n",
       "      <td>9.210125e+09</td>\n",
       "      <td>4.160327e+09</td>\n",
       "      <td>NaN</td>\n",
       "      <td>tehran</td>\n",
       "      <td>0.0</td>\n",
       "      <td>12.0</td>\n",
       "      <td>17.0</td>\n",
       "      <td>...</td>\n",
       "      <td>0.0</td>\n",
       "      <td>8000.0</td>\n",
       "      <td>0.0</td>\n",
       "      <td>0.0</td>\n",
       "      <td>0.0</td>\n",
       "      <td>0.0</td>\n",
       "      <td>0.0</td>\n",
       "      <td>0.0</td>\n",
       "      <td>0.0</td>\n",
       "      <td>389500.0</td>\n",
       "    </tr>\n",
       "    <tr>\n",
       "      <th>3175</th>\n",
       "      <td>24264.0</td>\n",
       "      <td>محمد رضا</td>\n",
       "      <td>جعفری موگوئی</td>\n",
       "      <td>9.196891e+09</td>\n",
       "      <td>2.190660e+07</td>\n",
       "      <td>NaN</td>\n",
       "      <td>tehran</td>\n",
       "      <td>0.0</td>\n",
       "      <td>0.0</td>\n",
       "      <td>5.0</td>\n",
       "      <td>...</td>\n",
       "      <td>0.0</td>\n",
       "      <td>4000.0</td>\n",
       "      <td>0.0</td>\n",
       "      <td>0.0</td>\n",
       "      <td>0.0</td>\n",
       "      <td>0.0</td>\n",
       "      <td>0.0</td>\n",
       "      <td>0.0</td>\n",
       "      <td>0.0</td>\n",
       "      <td>53000.0</td>\n",
       "    </tr>\n",
       "    <tr>\n",
       "      <th>3267</th>\n",
       "      <td>25572.0</td>\n",
       "      <td>عظیم</td>\n",
       "      <td>احمدی مقدم جوزان</td>\n",
       "      <td>9.197373e+09</td>\n",
       "      <td>8.731470e+08</td>\n",
       "      <td>IR60540123380002399184005</td>\n",
       "      <td>tehran</td>\n",
       "      <td>0.0</td>\n",
       "      <td>64.0</td>\n",
       "      <td>14.0</td>\n",
       "      <td>...</td>\n",
       "      <td>0.0</td>\n",
       "      <td>16000.0</td>\n",
       "      <td>0.0</td>\n",
       "      <td>0.0</td>\n",
       "      <td>0.0</td>\n",
       "      <td>0.0</td>\n",
       "      <td>0.0</td>\n",
       "      <td>0.0</td>\n",
       "      <td>0.0</td>\n",
       "      <td>949000.0</td>\n",
       "    </tr>\n",
       "    <tr>\n",
       "      <th>3465</th>\n",
       "      <td>28261.0</td>\n",
       "      <td>رضا</td>\n",
       "      <td>فندرسکی</td>\n",
       "      <td>9.195144e+09</td>\n",
       "      <td>2.269790e+09</td>\n",
       "      <td>NaN</td>\n",
       "      <td>tehran</td>\n",
       "      <td>1.0</td>\n",
       "      <td>0.0</td>\n",
       "      <td>44.0</td>\n",
       "      <td>...</td>\n",
       "      <td>0.0</td>\n",
       "      <td>4000.0</td>\n",
       "      <td>0.0</td>\n",
       "      <td>0.0</td>\n",
       "      <td>0.0</td>\n",
       "      <td>0.0</td>\n",
       "      <td>0.0</td>\n",
       "      <td>0.0</td>\n",
       "      <td>0.0</td>\n",
       "      <td>609700.0</td>\n",
       "    </tr>\n",
       "    <tr>\n",
       "      <th>...</th>\n",
       "      <td>...</td>\n",
       "      <td>...</td>\n",
       "      <td>...</td>\n",
       "      <td>...</td>\n",
       "      <td>...</td>\n",
       "      <td>...</td>\n",
       "      <td>...</td>\n",
       "      <td>...</td>\n",
       "      <td>...</td>\n",
       "      <td>...</td>\n",
       "      <td>...</td>\n",
       "      <td>...</td>\n",
       "      <td>...</td>\n",
       "      <td>...</td>\n",
       "      <td>...</td>\n",
       "      <td>...</td>\n",
       "      <td>...</td>\n",
       "      <td>...</td>\n",
       "      <td>...</td>\n",
       "      <td>...</td>\n",
       "      <td>...</td>\n",
       "    </tr>\n",
       "    <tr>\n",
       "      <th>5538</th>\n",
       "      <td>49549.0</td>\n",
       "      <td>سامان</td>\n",
       "      <td>یوسفی</td>\n",
       "      <td>9.120711e+09</td>\n",
       "      <td>4.180193e+09</td>\n",
       "      <td>NaN</td>\n",
       "      <td>tehran</td>\n",
       "      <td>6.0</td>\n",
       "      <td>33.0</td>\n",
       "      <td>9.0</td>\n",
       "      <td>...</td>\n",
       "      <td>0.0</td>\n",
       "      <td>4000.0</td>\n",
       "      <td>0.0</td>\n",
       "      <td>0.0</td>\n",
       "      <td>0.0</td>\n",
       "      <td>0.0</td>\n",
       "      <td>0.0</td>\n",
       "      <td>0.0</td>\n",
       "      <td>0.0</td>\n",
       "      <td>607000.0</td>\n",
       "    </tr>\n",
       "    <tr>\n",
       "      <th>5544</th>\n",
       "      <td>49593.0</td>\n",
       "      <td>مهدی</td>\n",
       "      <td>شریفی</td>\n",
       "      <td>9.186506e+09</td>\n",
       "      <td>3.790487e+09</td>\n",
       "      <td>NaN</td>\n",
       "      <td>tehran</td>\n",
       "      <td>0.0</td>\n",
       "      <td>1.0</td>\n",
       "      <td>0.0</td>\n",
       "      <td>...</td>\n",
       "      <td>0.0</td>\n",
       "      <td>0.0</td>\n",
       "      <td>0.0</td>\n",
       "      <td>0.0</td>\n",
       "      <td>0.0</td>\n",
       "      <td>0.0</td>\n",
       "      <td>0.0</td>\n",
       "      <td>0.0</td>\n",
       "      <td>0.0</td>\n",
       "      <td>14000.0</td>\n",
       "    </tr>\n",
       "    <tr>\n",
       "      <th>5547</th>\n",
       "      <td>49609.0</td>\n",
       "      <td>ابراهیم</td>\n",
       "      <td>ابراهیمی</td>\n",
       "      <td>9.366376e+09</td>\n",
       "      <td>2.480394e+09</td>\n",
       "      <td>NaN</td>\n",
       "      <td>tehran</td>\n",
       "      <td>7.0</td>\n",
       "      <td>3.0</td>\n",
       "      <td>5.0</td>\n",
       "      <td>...</td>\n",
       "      <td>0.0</td>\n",
       "      <td>8000.0</td>\n",
       "      <td>0.0</td>\n",
       "      <td>0.0</td>\n",
       "      <td>0.0</td>\n",
       "      <td>0.0</td>\n",
       "      <td>0.0</td>\n",
       "      <td>0.0</td>\n",
       "      <td>0.0</td>\n",
       "      <td>203000.0</td>\n",
       "    </tr>\n",
       "    <tr>\n",
       "      <th>5549</th>\n",
       "      <td>49625.0</td>\n",
       "      <td>محمد</td>\n",
       "      <td>نوری</td>\n",
       "      <td>9.393553e+09</td>\n",
       "      <td>4.860052e+09</td>\n",
       "      <td>NaN</td>\n",
       "      <td>tehran</td>\n",
       "      <td>6.0</td>\n",
       "      <td>4.0</td>\n",
       "      <td>4.0</td>\n",
       "      <td>...</td>\n",
       "      <td>0.0</td>\n",
       "      <td>12000.0</td>\n",
       "      <td>0.0</td>\n",
       "      <td>0.0</td>\n",
       "      <td>0.0</td>\n",
       "      <td>0.0</td>\n",
       "      <td>0.0</td>\n",
       "      <td>0.0</td>\n",
       "      <td>0.0</td>\n",
       "      <td>260000.0</td>\n",
       "    </tr>\n",
       "    <tr>\n",
       "      <th>5550</th>\n",
       "      <td>49629.0</td>\n",
       "      <td>حمیدرضا</td>\n",
       "      <td>عبدالله زاده</td>\n",
       "      <td>9.374086e+09</td>\n",
       "      <td>2.236381e+07</td>\n",
       "      <td>NaN</td>\n",
       "      <td>tehran</td>\n",
       "      <td>0.0</td>\n",
       "      <td>28.0</td>\n",
       "      <td>34.0</td>\n",
       "      <td>...</td>\n",
       "      <td>0.0</td>\n",
       "      <td>60000.0</td>\n",
       "      <td>0.0</td>\n",
       "      <td>0.0</td>\n",
       "      <td>0.0</td>\n",
       "      <td>0.0</td>\n",
       "      <td>0.0</td>\n",
       "      <td>0.0</td>\n",
       "      <td>0.0</td>\n",
       "      <td>695600.0</td>\n",
       "    </tr>\n",
       "  </tbody>\n",
       "</table>\n",
       "<p>66 rows × 32 columns</p>\n",
       "</div>"
      ],
      "text/plain": [
       "      biker id firstname          lastname     cellphone    nationalid  \\\n",
       "1045    7781.0   حمیدرضا            فرهمند  9.174009e+09  3.660514e+09   \n",
       "1146   10426.0       NaN     علی باقری اصل  9.210125e+09  4.160327e+09   \n",
       "3175   24264.0  محمد رضا      جعفری موگوئی  9.196891e+09  2.190660e+07   \n",
       "3267   25572.0      عظیم  احمدی مقدم جوزان  9.197373e+09  8.731470e+08   \n",
       "3465   28261.0       رضا           فندرسکی  9.195144e+09  2.269790e+09   \n",
       "...        ...       ...               ...           ...           ...   \n",
       "5538   49549.0     سامان             یوسفی  9.120711e+09  4.180193e+09   \n",
       "5544   49593.0      مهدی             شریفی  9.186506e+09  3.790487e+09   \n",
       "5547   49609.0   ابراهیم          ابراهیمی  9.366376e+09  2.480394e+09   \n",
       "5549   49625.0      محمد              نوری  9.393553e+09  4.860052e+09   \n",
       "5550   49629.0   حمیدرضا      عبدالله زاده  9.374086e+09  2.236381e+07   \n",
       "\n",
       "                   sheba number city code  morning rides  lunch rides  \\\n",
       "1045  IR48013010000000309188520    tehran            0.0         51.0   \n",
       "1146                        NaN    tehran            0.0         12.0   \n",
       "3175                        NaN    tehran            0.0          0.0   \n",
       "3267  IR60540123380002399184005    tehran            0.0         64.0   \n",
       "3465                        NaN    tehran            1.0          0.0   \n",
       "...                         ...       ...            ...          ...   \n",
       "5538                        NaN    tehran            6.0         33.0   \n",
       "5544                        NaN    tehran            0.0          1.0   \n",
       "5547                        NaN    tehran            7.0          3.0   \n",
       "5549                        NaN    tehran            6.0          4.0   \n",
       "5550                        NaN    tehran            0.0         28.0   \n",
       "\n",
       "      dinner rides  ...  equipment  vendor delay  cancellation fee  cash cod  \\\n",
       "1045           7.0  ...        0.0       28000.0               0.0       0.0   \n",
       "1146          17.0  ...        0.0        8000.0               0.0       0.0   \n",
       "3175           5.0  ...        0.0        4000.0               0.0       0.0   \n",
       "3267          14.0  ...        0.0       16000.0               0.0       0.0   \n",
       "3465          44.0  ...        0.0        4000.0               0.0       0.0   \n",
       "...            ...  ...        ...           ...               ...       ...   \n",
       "5538           9.0  ...        0.0        4000.0               0.0       0.0   \n",
       "5544           0.0  ...        0.0           0.0               0.0       0.0   \n",
       "5547           5.0  ...        0.0        8000.0               0.0       0.0   \n",
       "5549           4.0  ...        0.0       12000.0               0.0       0.0   \n",
       "5550          34.0  ...        0.0       60000.0               0.0       0.0   \n",
       "\n",
       "      cash biker request  delivery fee biker request  lead  \\\n",
       "1045                 0.0                         0.0   0.0   \n",
       "1146                 0.0                         0.0   0.0   \n",
       "3175                 0.0                         0.0   0.0   \n",
       "3267                 0.0                         0.0   0.0   \n",
       "3465                 0.0                         0.0   0.0   \n",
       "...                  ...                         ...   ...   \n",
       "5538                 0.0                         0.0   0.0   \n",
       "5544                 0.0                         0.0   0.0   \n",
       "5547                 0.0                         0.0   0.0   \n",
       "5549                 0.0                         0.0   0.0   \n",
       "5550                 0.0                         0.0   0.0   \n",
       "\n",
       "      remained from last week  credit  total payable  \n",
       "1045                      0.0     0.0       768000.0  \n",
       "1146                      0.0     0.0       389500.0  \n",
       "3175                      0.0     0.0        53000.0  \n",
       "3267                      0.0     0.0       949000.0  \n",
       "3465                      0.0     0.0       609700.0  \n",
       "...                       ...     ...            ...  \n",
       "5538                      0.0     0.0       607000.0  \n",
       "5544                      0.0     0.0        14000.0  \n",
       "5547                      0.0     0.0       203000.0  \n",
       "5549                      0.0     0.0       260000.0  \n",
       "5550                      0.0     0.0       695600.0  \n",
       "\n",
       "[66 rows x 32 columns]"
      ]
     },
     "execution_count": 6,
     "metadata": {},
     "output_type": "execute_result"
    }
   ],
   "source": [
    "# bikers with problem in their sheba number\n",
    "c=0\n",
    "wrong_sheba_tehran=pd.DataFrame()\n",
    "for i in range(len(data['tehran'])):\n",
    "    if len(str(data['tehran']['sheba number'].iloc[i]))!=26:\n",
    "        wrong_sheba_tehran=wrong_sheba_tehran.append(data['tehran'].iloc[i])\n",
    "        c+=1\n",
    "print(c)\n",
    "wrong_sheba_tehran"
   ]
  },
  {
   "cell_type": "code",
   "execution_count": 13,
   "id": "72e2440b",
   "metadata": {
    "collapsed": true
   },
   "outputs": [
    {
     "ename": "FileNotFoundError",
     "evalue": "[Errno 2] No such file or directory: 'E:/Weekly Payments/Output_files/wrong_sheba_tehran.xlsx'",
     "output_type": "error",
     "traceback": [
      "\u001b[1;31m---------------------------------------------------------------------------\u001b[0m",
      "\u001b[1;31mFileNotFoundError\u001b[0m                         Traceback (most recent call last)",
      "\u001b[1;32mC:\\Users\\SNAPPF~1\\AppData\\Local\\Temp/ipykernel_17964/3161734940.py\u001b[0m in \u001b[0;36m<module>\u001b[1;34m\u001b[0m\n\u001b[0;32m      1\u001b[0m \u001b[1;31m# OUTPUT\u001b[0m\u001b[1;33m\u001b[0m\u001b[1;33m\u001b[0m\u001b[0m\n\u001b[1;32m----> 2\u001b[1;33m \u001b[0mwrong_sheba_tehran\u001b[0m\u001b[1;33m.\u001b[0m\u001b[0mto_excel\u001b[0m\u001b[1;33m(\u001b[0m\u001b[1;34m'E:/Weekly Payments/Output_files/wrong_sheba_tehran.xlsx'\u001b[0m\u001b[1;33m)\u001b[0m\u001b[1;33m\u001b[0m\u001b[1;33m\u001b[0m\u001b[0m\n\u001b[0m",
      "\u001b[1;32m~\\anaconda3\\lib\\site-packages\\pandas\\core\\generic.py\u001b[0m in \u001b[0;36mto_excel\u001b[1;34m(self, excel_writer, sheet_name, na_rep, float_format, columns, header, index, index_label, startrow, startcol, engine, merge_cells, encoding, inf_rep, verbose, freeze_panes, storage_options)\u001b[0m\n\u001b[0;32m   2282\u001b[0m             \u001b[0minf_rep\u001b[0m\u001b[1;33m=\u001b[0m\u001b[0minf_rep\u001b[0m\u001b[1;33m,\u001b[0m\u001b[1;33m\u001b[0m\u001b[1;33m\u001b[0m\u001b[0m\n\u001b[0;32m   2283\u001b[0m         )\n\u001b[1;32m-> 2284\u001b[1;33m         formatter.write(\n\u001b[0m\u001b[0;32m   2285\u001b[0m             \u001b[0mexcel_writer\u001b[0m\u001b[1;33m,\u001b[0m\u001b[1;33m\u001b[0m\u001b[1;33m\u001b[0m\u001b[0m\n\u001b[0;32m   2286\u001b[0m             \u001b[0msheet_name\u001b[0m\u001b[1;33m=\u001b[0m\u001b[0msheet_name\u001b[0m\u001b[1;33m,\u001b[0m\u001b[1;33m\u001b[0m\u001b[1;33m\u001b[0m\u001b[0m\n",
      "\u001b[1;32m~\\anaconda3\\lib\\site-packages\\pandas\\io\\formats\\excel.py\u001b[0m in \u001b[0;36mwrite\u001b[1;34m(self, writer, sheet_name, startrow, startcol, freeze_panes, engine, storage_options)\u001b[0m\n\u001b[0;32m    832\u001b[0m             \u001b[1;31m# error: Cannot instantiate abstract class 'ExcelWriter' with abstract\u001b[0m\u001b[1;33m\u001b[0m\u001b[1;33m\u001b[0m\u001b[0m\n\u001b[0;32m    833\u001b[0m             \u001b[1;31m# attributes 'engine', 'save', 'supported_extensions' and 'write_cells'\u001b[0m\u001b[1;33m\u001b[0m\u001b[1;33m\u001b[0m\u001b[0m\n\u001b[1;32m--> 834\u001b[1;33m             writer = ExcelWriter(  # type: ignore[abstract]\n\u001b[0m\u001b[0;32m    835\u001b[0m                 \u001b[0mwriter\u001b[0m\u001b[1;33m,\u001b[0m \u001b[0mengine\u001b[0m\u001b[1;33m=\u001b[0m\u001b[0mengine\u001b[0m\u001b[1;33m,\u001b[0m \u001b[0mstorage_options\u001b[0m\u001b[1;33m=\u001b[0m\u001b[0mstorage_options\u001b[0m\u001b[1;33m\u001b[0m\u001b[1;33m\u001b[0m\u001b[0m\n\u001b[0;32m    836\u001b[0m             )\n",
      "\u001b[1;32m~\\anaconda3\\lib\\site-packages\\pandas\\io\\excel\\_xlsxwriter.py\u001b[0m in \u001b[0;36m__init__\u001b[1;34m(self, path, engine, date_format, datetime_format, mode, storage_options, if_sheet_exists, engine_kwargs, **kwargs)\u001b[0m\n\u001b[0;32m    189\u001b[0m             \u001b[1;32mraise\u001b[0m \u001b[0mValueError\u001b[0m\u001b[1;33m(\u001b[0m\u001b[1;34m\"Append mode is not supported with xlsxwriter!\"\u001b[0m\u001b[1;33m)\u001b[0m\u001b[1;33m\u001b[0m\u001b[1;33m\u001b[0m\u001b[0m\n\u001b[0;32m    190\u001b[0m \u001b[1;33m\u001b[0m\u001b[0m\n\u001b[1;32m--> 191\u001b[1;33m         super().__init__(\n\u001b[0m\u001b[0;32m    192\u001b[0m             \u001b[0mpath\u001b[0m\u001b[1;33m,\u001b[0m\u001b[1;33m\u001b[0m\u001b[1;33m\u001b[0m\u001b[0m\n\u001b[0;32m    193\u001b[0m             \u001b[0mengine\u001b[0m\u001b[1;33m=\u001b[0m\u001b[0mengine\u001b[0m\u001b[1;33m,\u001b[0m\u001b[1;33m\u001b[0m\u001b[1;33m\u001b[0m\u001b[0m\n",
      "\u001b[1;32m~\\anaconda3\\lib\\site-packages\\pandas\\io\\excel\\_base.py\u001b[0m in \u001b[0;36m__init__\u001b[1;34m(self, path, engine, date_format, datetime_format, mode, storage_options, if_sheet_exists, engine_kwargs, **kwargs)\u001b[0m\n\u001b[0;32m    923\u001b[0m         \u001b[0mself\u001b[0m\u001b[1;33m.\u001b[0m\u001b[0mhandles\u001b[0m \u001b[1;33m=\u001b[0m \u001b[0mIOHandles\u001b[0m\u001b[1;33m(\u001b[0m\u001b[0mcast\u001b[0m\u001b[1;33m(\u001b[0m\u001b[0mBuffer\u001b[0m\u001b[1;33m,\u001b[0m \u001b[0mpath\u001b[0m\u001b[1;33m)\u001b[0m\u001b[1;33m,\u001b[0m \u001b[0mcompression\u001b[0m\u001b[1;33m=\u001b[0m\u001b[1;33m{\u001b[0m\u001b[1;34m\"copression\"\u001b[0m\u001b[1;33m:\u001b[0m \u001b[1;32mNone\u001b[0m\u001b[1;33m}\u001b[0m\u001b[1;33m)\u001b[0m\u001b[1;33m\u001b[0m\u001b[1;33m\u001b[0m\u001b[0m\n\u001b[0;32m    924\u001b[0m         \u001b[1;32mif\u001b[0m \u001b[1;32mnot\u001b[0m \u001b[0misinstance\u001b[0m\u001b[1;33m(\u001b[0m\u001b[0mpath\u001b[0m\u001b[1;33m,\u001b[0m \u001b[0mExcelWriter\u001b[0m\u001b[1;33m)\u001b[0m\u001b[1;33m:\u001b[0m\u001b[1;33m\u001b[0m\u001b[1;33m\u001b[0m\u001b[0m\n\u001b[1;32m--> 925\u001b[1;33m             self.handles = get_handle(\n\u001b[0m\u001b[0;32m    926\u001b[0m                 \u001b[0mpath\u001b[0m\u001b[1;33m,\u001b[0m \u001b[0mmode\u001b[0m\u001b[1;33m,\u001b[0m \u001b[0mstorage_options\u001b[0m\u001b[1;33m=\u001b[0m\u001b[0mstorage_options\u001b[0m\u001b[1;33m,\u001b[0m \u001b[0mis_text\u001b[0m\u001b[1;33m=\u001b[0m\u001b[1;32mFalse\u001b[0m\u001b[1;33m\u001b[0m\u001b[1;33m\u001b[0m\u001b[0m\n\u001b[0;32m    927\u001b[0m             )\n",
      "\u001b[1;32m~\\anaconda3\\lib\\site-packages\\pandas\\io\\common.py\u001b[0m in \u001b[0;36mget_handle\u001b[1;34m(path_or_buf, mode, encoding, compression, memory_map, is_text, errors, storage_options)\u001b[0m\n\u001b[0;32m    709\u001b[0m         \u001b[1;32melse\u001b[0m\u001b[1;33m:\u001b[0m\u001b[1;33m\u001b[0m\u001b[1;33m\u001b[0m\u001b[0m\n\u001b[0;32m    710\u001b[0m             \u001b[1;31m# Binary mode\u001b[0m\u001b[1;33m\u001b[0m\u001b[1;33m\u001b[0m\u001b[0m\n\u001b[1;32m--> 711\u001b[1;33m             \u001b[0mhandle\u001b[0m \u001b[1;33m=\u001b[0m \u001b[0mopen\u001b[0m\u001b[1;33m(\u001b[0m\u001b[0mhandle\u001b[0m\u001b[1;33m,\u001b[0m \u001b[0mioargs\u001b[0m\u001b[1;33m.\u001b[0m\u001b[0mmode\u001b[0m\u001b[1;33m)\u001b[0m\u001b[1;33m\u001b[0m\u001b[1;33m\u001b[0m\u001b[0m\n\u001b[0m\u001b[0;32m    712\u001b[0m         \u001b[0mhandles\u001b[0m\u001b[1;33m.\u001b[0m\u001b[0mappend\u001b[0m\u001b[1;33m(\u001b[0m\u001b[0mhandle\u001b[0m\u001b[1;33m)\u001b[0m\u001b[1;33m\u001b[0m\u001b[1;33m\u001b[0m\u001b[0m\n\u001b[0;32m    713\u001b[0m \u001b[1;33m\u001b[0m\u001b[0m\n",
      "\u001b[1;31mFileNotFoundError\u001b[0m: [Errno 2] No such file or directory: 'E:/Weekly Payments/Output_files/wrong_sheba_tehran.xlsx'"
     ]
    }
   ],
   "source": [
    "# OUTPUT\n",
    "wrong_sheba_tehran.to_excel('E:/Weekly Payments/Output_files/wrong_sheba_tehran.xlsx')"
   ]
  },
  {
   "cell_type": "code",
   "execution_count": 8,
   "id": "dcb527ce",
   "metadata": {},
   "outputs": [],
   "source": [
    "wrong_sheba=wrong_sheba_tehran[['biker id','sheba number','lastname','total payable']]\n",
    "noSheba=data['no sheba'][['biker id','sheba number','lastname','total payable']]"
   ]
  },
  {
   "cell_type": "code",
   "execution_count": 9,
   "id": "5b2ebff2",
   "metadata": {},
   "outputs": [
    {
     "name": "stderr",
     "output_type": "stream",
     "text": [
      "C:\\Users\\snappfood\\anaconda3\\lib\\site-packages\\pandas\\core\\frame.py:5176: SettingWithCopyWarning: \n",
      "A value is trying to be set on a copy of a slice from a DataFrame\n",
      "\n",
      "See the caveats in the documentation: https://pandas.pydata.org/pandas-docs/stable/user_guide/indexing.html#returning-a-view-versus-a-copy\n",
      "  return super().fillna(\n"
     ]
    }
   ],
   "source": [
    "wrong_sheba.fillna(0,inplace=True)\n",
    "noSheba.fillna(0, inplace=True)"
   ]
  },
  {
   "cell_type": "code",
   "execution_count": 17,
   "id": "2c77a8d3",
   "metadata": {},
   "outputs": [],
   "source": [
    "# Compare Wrong shebas from tehran and No Sheba sheet to see if they are equal or not\n",
    "no_sheba_merged=pd.merge(wrong_sheba,noSheba,on='biker id',how='left')"
   ]
  },
  {
   "cell_type": "code",
   "execution_count": 18,
   "id": "d03d33e6",
   "metadata": {
    "scrolled": true
   },
   "outputs": [
    {
     "data": {
      "text/html": [
       "<div>\n",
       "<style scoped>\n",
       "    .dataframe tbody tr th:only-of-type {\n",
       "        vertical-align: middle;\n",
       "    }\n",
       "\n",
       "    .dataframe tbody tr th {\n",
       "        vertical-align: top;\n",
       "    }\n",
       "\n",
       "    .dataframe thead th {\n",
       "        text-align: right;\n",
       "    }\n",
       "</style>\n",
       "<table border=\"1\" class=\"dataframe\">\n",
       "  <thead>\n",
       "    <tr style=\"text-align: right;\">\n",
       "      <th></th>\n",
       "      <th>biker id</th>\n",
       "      <th>sheba number_x</th>\n",
       "      <th>name_family_x</th>\n",
       "      <th>total payable_x</th>\n",
       "      <th>sheba number_y</th>\n",
       "      <th>name_family_y</th>\n",
       "      <th>total payable_y</th>\n",
       "    </tr>\n",
       "  </thead>\n",
       "  <tbody>\n",
       "    <tr>\n",
       "      <th>0</th>\n",
       "      <td>7781.0</td>\n",
       "      <td>IR48013010000000309188520</td>\n",
       "      <td>حمیدرضا فرهمند</td>\n",
       "      <td>768000.0</td>\n",
       "      <td>IR48013010000000309188520</td>\n",
       "      <td>حمیدرضا فرهمند</td>\n",
       "      <td>768000</td>\n",
       "    </tr>\n",
       "    <tr>\n",
       "      <th>1</th>\n",
       "      <td>10426.0</td>\n",
       "      <td>0</td>\n",
       "      <td>علی باقری اصل</td>\n",
       "      <td>389500.0</td>\n",
       "      <td>0</td>\n",
       "      <td>علی باقری اصل</td>\n",
       "      <td>389500</td>\n",
       "    </tr>\n",
       "    <tr>\n",
       "      <th>2</th>\n",
       "      <td>24264.0</td>\n",
       "      <td>0</td>\n",
       "      <td>محمد رضا  جعفری موگوئی</td>\n",
       "      <td>53000.0</td>\n",
       "      <td>0</td>\n",
       "      <td>محمد رضا  جعفری موگوئی</td>\n",
       "      <td>53000</td>\n",
       "    </tr>\n",
       "    <tr>\n",
       "      <th>3</th>\n",
       "      <td>25572.0</td>\n",
       "      <td>IR60540123380002399184005</td>\n",
       "      <td>عظیم احمدی مقدم جوزان</td>\n",
       "      <td>949000.0</td>\n",
       "      <td>IR60540123380002399184005</td>\n",
       "      <td>عظیم احمدی مقدم جوزان</td>\n",
       "      <td>949000</td>\n",
       "    </tr>\n",
       "    <tr>\n",
       "      <th>4</th>\n",
       "      <td>28261.0</td>\n",
       "      <td>0</td>\n",
       "      <td>رضا فندرسکی</td>\n",
       "      <td>609700.0</td>\n",
       "      <td>0</td>\n",
       "      <td>رضا فندرسکی</td>\n",
       "      <td>609700</td>\n",
       "    </tr>\n",
       "    <tr>\n",
       "      <th>...</th>\n",
       "      <td>...</td>\n",
       "      <td>...</td>\n",
       "      <td>...</td>\n",
       "      <td>...</td>\n",
       "      <td>...</td>\n",
       "      <td>...</td>\n",
       "      <td>...</td>\n",
       "    </tr>\n",
       "    <tr>\n",
       "      <th>61</th>\n",
       "      <td>49549.0</td>\n",
       "      <td>0</td>\n",
       "      <td>سامان یوسفی</td>\n",
       "      <td>607000.0</td>\n",
       "      <td>0</td>\n",
       "      <td>سامان یوسفی</td>\n",
       "      <td>607000</td>\n",
       "    </tr>\n",
       "    <tr>\n",
       "      <th>62</th>\n",
       "      <td>49593.0</td>\n",
       "      <td>0</td>\n",
       "      <td>مهدی شریفی</td>\n",
       "      <td>14000.0</td>\n",
       "      <td>0</td>\n",
       "      <td>مهدی شریفی</td>\n",
       "      <td>14000</td>\n",
       "    </tr>\n",
       "    <tr>\n",
       "      <th>63</th>\n",
       "      <td>49609.0</td>\n",
       "      <td>0</td>\n",
       "      <td>ابراهیم ابراهیمی</td>\n",
       "      <td>203000.0</td>\n",
       "      <td>0</td>\n",
       "      <td>ابراهیم ابراهیمی</td>\n",
       "      <td>203000</td>\n",
       "    </tr>\n",
       "    <tr>\n",
       "      <th>64</th>\n",
       "      <td>49625.0</td>\n",
       "      <td>0</td>\n",
       "      <td>محمد نوری</td>\n",
       "      <td>260000.0</td>\n",
       "      <td>0</td>\n",
       "      <td>محمد نوری</td>\n",
       "      <td>260000</td>\n",
       "    </tr>\n",
       "    <tr>\n",
       "      <th>65</th>\n",
       "      <td>49629.0</td>\n",
       "      <td>0</td>\n",
       "      <td>حمیدرضا عبدالله زاده</td>\n",
       "      <td>695600.0</td>\n",
       "      <td>0</td>\n",
       "      <td>حمیدرضا عبدالله زاده</td>\n",
       "      <td>695600</td>\n",
       "    </tr>\n",
       "  </tbody>\n",
       "</table>\n",
       "<p>66 rows × 7 columns</p>\n",
       "</div>"
      ],
      "text/plain": [
       "    biker id             sheba number_x           name_family_x  \\\n",
       "0     7781.0  IR48013010000000309188520          حمیدرضا فرهمند   \n",
       "1    10426.0                          0           علی باقری اصل   \n",
       "2    24264.0                          0  محمد رضا  جعفری موگوئی   \n",
       "3    25572.0  IR60540123380002399184005   عظیم احمدی مقدم جوزان   \n",
       "4    28261.0                          0             رضا فندرسکی   \n",
       "..       ...                        ...                     ...   \n",
       "61   49549.0                          0             سامان یوسفی   \n",
       "62   49593.0                          0              مهدی شریفی   \n",
       "63   49609.0                          0        ابراهیم ابراهیمی   \n",
       "64   49625.0                          0               محمد نوری   \n",
       "65   49629.0                          0    حمیدرضا عبدالله زاده   \n",
       "\n",
       "    total payable_x             sheba number_y           name_family_y  \\\n",
       "0          768000.0  IR48013010000000309188520          حمیدرضا فرهمند   \n",
       "1          389500.0                          0           علی باقری اصل   \n",
       "2           53000.0                          0  محمد رضا  جعفری موگوئی   \n",
       "3          949000.0  IR60540123380002399184005   عظیم احمدی مقدم جوزان   \n",
       "4          609700.0                          0             رضا فندرسکی   \n",
       "..              ...                        ...                     ...   \n",
       "61         607000.0                          0             سامان یوسفی   \n",
       "62          14000.0                          0              مهدی شریفی   \n",
       "63         203000.0                          0        ابراهیم ابراهیمی   \n",
       "64         260000.0                          0               محمد نوری   \n",
       "65         695600.0                          0    حمیدرضا عبدالله زاده   \n",
       "\n",
       "    total payable_y  \n",
       "0            768000  \n",
       "1            389500  \n",
       "2             53000  \n",
       "3            949000  \n",
       "4            609700  \n",
       "..              ...  \n",
       "61           607000  \n",
       "62            14000  \n",
       "63           203000  \n",
       "64           260000  \n",
       "65           695600  \n",
       "\n",
       "[66 rows x 7 columns]"
      ]
     },
     "execution_count": 18,
     "metadata": {},
     "output_type": "execute_result"
    }
   ],
   "source": [
    "no_sheba_merged"
   ]
  },
  {
   "cell_type": "code",
   "execution_count": 10,
   "id": "8feb97f2",
   "metadata": {},
   "outputs": [],
   "source": [
    "no_sheba_merged2=pd.merge(noSheba,wrong_sheba,on='biker id',how='left')"
   ]
  },
  {
   "cell_type": "code",
   "execution_count": 11,
   "id": "217af78c",
   "metadata": {
    "scrolled": true
   },
   "outputs": [
    {
     "data": {
      "text/html": [
       "<div>\n",
       "<style scoped>\n",
       "    .dataframe tbody tr th:only-of-type {\n",
       "        vertical-align: middle;\n",
       "    }\n",
       "\n",
       "    .dataframe tbody tr th {\n",
       "        vertical-align: top;\n",
       "    }\n",
       "\n",
       "    .dataframe thead th {\n",
       "        text-align: right;\n",
       "    }\n",
       "</style>\n",
       "<table border=\"1\" class=\"dataframe\">\n",
       "  <thead>\n",
       "    <tr style=\"text-align: right;\">\n",
       "      <th></th>\n",
       "      <th>biker id</th>\n",
       "      <th>sheba number_x</th>\n",
       "      <th>lastname_x</th>\n",
       "      <th>total payable_x</th>\n",
       "      <th>sheba number_y</th>\n",
       "      <th>lastname_y</th>\n",
       "      <th>total payable_y</th>\n",
       "    </tr>\n",
       "  </thead>\n",
       "  <tbody>\n",
       "    <tr>\n",
       "      <th>0</th>\n",
       "      <td>7781</td>\n",
       "      <td>IR48013010000000309188520</td>\n",
       "      <td>فرهمند</td>\n",
       "      <td>768000</td>\n",
       "      <td>IR48013010000000309188520</td>\n",
       "      <td>فرهمند</td>\n",
       "      <td>768000.0</td>\n",
       "    </tr>\n",
       "    <tr>\n",
       "      <th>1</th>\n",
       "      <td>10426</td>\n",
       "      <td>0</td>\n",
       "      <td>علی باقری اصل</td>\n",
       "      <td>389500</td>\n",
       "      <td>0</td>\n",
       "      <td>علی باقری اصل</td>\n",
       "      <td>389500.0</td>\n",
       "    </tr>\n",
       "    <tr>\n",
       "      <th>2</th>\n",
       "      <td>24264</td>\n",
       "      <td>0</td>\n",
       "      <td>جعفری موگوئی</td>\n",
       "      <td>53000</td>\n",
       "      <td>0</td>\n",
       "      <td>جعفری موگوئی</td>\n",
       "      <td>53000.0</td>\n",
       "    </tr>\n",
       "    <tr>\n",
       "      <th>3</th>\n",
       "      <td>25572</td>\n",
       "      <td>IR60540123380002399184005</td>\n",
       "      <td>احمدی مقدم جوزان</td>\n",
       "      <td>949000</td>\n",
       "      <td>IR60540123380002399184005</td>\n",
       "      <td>احمدی مقدم جوزان</td>\n",
       "      <td>949000.0</td>\n",
       "    </tr>\n",
       "    <tr>\n",
       "      <th>4</th>\n",
       "      <td>28261</td>\n",
       "      <td>0</td>\n",
       "      <td>فندرسکی</td>\n",
       "      <td>609700</td>\n",
       "      <td>0</td>\n",
       "      <td>فندرسکی</td>\n",
       "      <td>609700.0</td>\n",
       "    </tr>\n",
       "    <tr>\n",
       "      <th>...</th>\n",
       "      <td>...</td>\n",
       "      <td>...</td>\n",
       "      <td>...</td>\n",
       "      <td>...</td>\n",
       "      <td>...</td>\n",
       "      <td>...</td>\n",
       "      <td>...</td>\n",
       "    </tr>\n",
       "    <tr>\n",
       "      <th>61</th>\n",
       "      <td>49549</td>\n",
       "      <td>0</td>\n",
       "      <td>یوسفی</td>\n",
       "      <td>607000</td>\n",
       "      <td>0</td>\n",
       "      <td>یوسفی</td>\n",
       "      <td>607000.0</td>\n",
       "    </tr>\n",
       "    <tr>\n",
       "      <th>62</th>\n",
       "      <td>49593</td>\n",
       "      <td>0</td>\n",
       "      <td>شریفی</td>\n",
       "      <td>14000</td>\n",
       "      <td>0</td>\n",
       "      <td>شریفی</td>\n",
       "      <td>14000.0</td>\n",
       "    </tr>\n",
       "    <tr>\n",
       "      <th>63</th>\n",
       "      <td>49609</td>\n",
       "      <td>0</td>\n",
       "      <td>ابراهیمی</td>\n",
       "      <td>203000</td>\n",
       "      <td>0</td>\n",
       "      <td>ابراهیمی</td>\n",
       "      <td>203000.0</td>\n",
       "    </tr>\n",
       "    <tr>\n",
       "      <th>64</th>\n",
       "      <td>49625</td>\n",
       "      <td>0</td>\n",
       "      <td>نوری</td>\n",
       "      <td>260000</td>\n",
       "      <td>0</td>\n",
       "      <td>نوری</td>\n",
       "      <td>260000.0</td>\n",
       "    </tr>\n",
       "    <tr>\n",
       "      <th>65</th>\n",
       "      <td>49629</td>\n",
       "      <td>0</td>\n",
       "      <td>عبدالله زاده</td>\n",
       "      <td>695600</td>\n",
       "      <td>0</td>\n",
       "      <td>عبدالله زاده</td>\n",
       "      <td>695600.0</td>\n",
       "    </tr>\n",
       "  </tbody>\n",
       "</table>\n",
       "<p>66 rows × 7 columns</p>\n",
       "</div>"
      ],
      "text/plain": [
       "    biker id             sheba number_x        lastname_x  total payable_x  \\\n",
       "0       7781  IR48013010000000309188520            فرهمند           768000   \n",
       "1      10426                          0     علی باقری اصل           389500   \n",
       "2      24264                          0      جعفری موگوئی            53000   \n",
       "3      25572  IR60540123380002399184005  احمدی مقدم جوزان           949000   \n",
       "4      28261                          0           فندرسکی           609700   \n",
       "..       ...                        ...               ...              ...   \n",
       "61     49549                          0             یوسفی           607000   \n",
       "62     49593                          0             شریفی            14000   \n",
       "63     49609                          0          ابراهیمی           203000   \n",
       "64     49625                          0              نوری           260000   \n",
       "65     49629                          0      عبدالله زاده           695600   \n",
       "\n",
       "               sheba number_y        lastname_y  total payable_y  \n",
       "0   IR48013010000000309188520            فرهمند         768000.0  \n",
       "1                           0     علی باقری اصل         389500.0  \n",
       "2                           0      جعفری موگوئی          53000.0  \n",
       "3   IR60540123380002399184005  احمدی مقدم جوزان         949000.0  \n",
       "4                           0           فندرسکی         609700.0  \n",
       "..                        ...               ...              ...  \n",
       "61                          0             یوسفی         607000.0  \n",
       "62                          0             شریفی          14000.0  \n",
       "63                          0          ابراهیمی         203000.0  \n",
       "64                          0              نوری         260000.0  \n",
       "65                          0      عبدالله زاده         695600.0  \n",
       "\n",
       "[66 rows x 7 columns]"
      ]
     },
     "execution_count": 11,
     "metadata": {},
     "output_type": "execute_result"
    }
   ],
   "source": [
    "no_sheba_merged2"
   ]
  },
  {
   "cell_type": "code",
   "execution_count": 6,
   "id": "0ea75ab2",
   "metadata": {},
   "outputs": [
    {
     "ename": "NameError",
     "evalue": "name 'no_sheba_merged' is not defined",
     "output_type": "error",
     "traceback": [
      "\u001b[1;31m---------------------------------------------------------------------------\u001b[0m",
      "\u001b[1;31mNameError\u001b[0m                                 Traceback (most recent call last)",
      "\u001b[1;32mC:\\Users\\SNAPPF~1\\AppData\\Local\\Temp/ipykernel_17928/156424489.py\u001b[0m in \u001b[0;36m<module>\u001b[1;34m\u001b[0m\n\u001b[0;32m      3\u001b[0m \u001b[0mmissed_no_sheba\u001b[0m\u001b[1;33m=\u001b[0m\u001b[0mpd\u001b[0m\u001b[1;33m.\u001b[0m\u001b[0mDataFrame\u001b[0m\u001b[1;33m(\u001b[0m\u001b[1;33m)\u001b[0m\u001b[1;33m\u001b[0m\u001b[1;33m\u001b[0m\u001b[0m\n\u001b[0;32m      4\u001b[0m \u001b[0mcounter\u001b[0m\u001b[1;33m=\u001b[0m\u001b[1;36m0\u001b[0m\u001b[1;33m\u001b[0m\u001b[1;33m\u001b[0m\u001b[0m\n\u001b[1;32m----> 5\u001b[1;33m \u001b[1;32mif\u001b[0m \u001b[0mno_sheba_merged\u001b[0m\u001b[1;33m[\u001b[0m\u001b[1;34m'sheba number_x'\u001b[0m\u001b[1;33m]\u001b[0m\u001b[1;33m.\u001b[0m\u001b[0misnull\u001b[0m\u001b[1;33m(\u001b[0m\u001b[1;33m)\u001b[0m\u001b[1;33m.\u001b[0m\u001b[0msum\u001b[0m\u001b[1;33m(\u001b[0m\u001b[1;33m)\u001b[0m\u001b[1;33m==\u001b[0m\u001b[1;36m0\u001b[0m\u001b[1;33m:\u001b[0m\u001b[1;33m\u001b[0m\u001b[1;33m\u001b[0m\u001b[0m\n\u001b[0m\u001b[0;32m      6\u001b[0m     \u001b[0mprint\u001b[0m\u001b[1;33m(\u001b[0m\u001b[1;34m'wrong sheba numbers are the same in both files'\u001b[0m\u001b[1;33m)\u001b[0m\u001b[1;33m\u001b[0m\u001b[1;33m\u001b[0m\u001b[0m\n\u001b[0;32m      7\u001b[0m     \u001b[0mprint\u001b[0m\u001b[1;33m(\u001b[0m\u001b[0mno_sheba_merged\u001b[0m\u001b[1;33m[\u001b[0m\u001b[1;34m'sheba number_x'\u001b[0m\u001b[1;33m]\u001b[0m\u001b[1;33m.\u001b[0m\u001b[0misnull\u001b[0m\u001b[1;33m(\u001b[0m\u001b[1;33m)\u001b[0m\u001b[1;33m.\u001b[0m\u001b[0msum\u001b[0m\u001b[1;33m(\u001b[0m\u001b[1;33m)\u001b[0m\u001b[1;33m)\u001b[0m\u001b[1;33m\u001b[0m\u001b[1;33m\u001b[0m\u001b[0m\n",
      "\u001b[1;31mNameError\u001b[0m: name 'no_sheba_merged' is not defined"
     ]
    }
   ],
   "source": [
    "# OUTPUT\n",
    "# wrong sheba numbers which are not in No Sheba sub sheet (if any)\n",
    "missed_no_sheba=pd.DataFrame()\n",
    "counter=0\n",
    "if no_sheba_merged['sheba number_x'].isnull().sum()==0:\n",
    "    print('wrong sheba numbers are the same in both files')\n",
    "    print(no_sheba_merged['sheba number_x'].isnull().sum())\n",
    "    print(no_sheba_merged2['sheba number_y'].isnull().sum())\n",
    "else:\n",
    "    print('here we found '+str(no_sheba_merged['sheba number_y'].isnull().sum())+' sheba numbers')\n",
    "    missed_no_sheba=missed_no_sheba.append(no_sheba_merged[no_sheba_merged['sheba number_y'].isnull()])\n",
    "# if counter>0:\n",
    "#     print(\"out put is missed wrong sheba users\")\n",
    "#     missed_no_sheba.to_excel('E:/Weekly Payments/missed_n_sheba.xlsx')\n",
    "# else:\n",
    "#     print('no output')"
   ]
  },
  {
   "cell_type": "code",
   "execution_count": 22,
   "id": "636f0712",
   "metadata": {
    "collapsed": true
   },
   "outputs": [
    {
     "data": {
      "text/plain": [
       "IR630170000000355202859009    1\n",
       "IR200120010000005613680383    1\n",
       "IR520120010000003389568650    1\n",
       "IR460540104847000312825606    1\n",
       "IR740170000000346580086006    1\n",
       "                             ..\n",
       "IR090160000000000948900232    1\n",
       "IR440170000000310693664003    1\n",
       "IR690140040000710058443510    1\n",
       "IR840640011670000682278001    1\n",
       "IR400120000000008699763894    1\n",
       "Name: sheba number, Length: 5500, dtype: int64"
      ]
     },
     "execution_count": 22,
     "metadata": {},
     "output_type": "execute_result"
    }
   ],
   "source": [
    "data['tehran']['sheba number'].value_counts()"
   ]
  },
  {
   "cell_type": "code",
   "execution_count": 7,
   "id": "88a48fc9",
   "metadata": {},
   "outputs": [],
   "source": [
    "# Find duplicate sheba numbers\n",
    "more_than_one=pd.DataFrame()\n",
    "values=data['tehran']['sheba number'].value_counts().to_dict()\n",
    "keys=list(values.keys())\n",
    "for i in range(len(values)):\n",
    "    if values[keys[i]]>1:\n",
    "        more_than_one=more_than_one.append(data['tehran'][data['tehran']['sheba number']==keys[i]])"
   ]
  },
  {
   "cell_type": "code",
   "execution_count": 25,
   "id": "38f260be",
   "metadata": {
    "scrolled": true
   },
   "outputs": [
    {
     "data": {
      "text/html": [
       "<div>\n",
       "<style scoped>\n",
       "    .dataframe tbody tr th:only-of-type {\n",
       "        vertical-align: middle;\n",
       "    }\n",
       "\n",
       "    .dataframe tbody tr th {\n",
       "        vertical-align: top;\n",
       "    }\n",
       "\n",
       "    .dataframe thead th {\n",
       "        text-align: right;\n",
       "    }\n",
       "</style>\n",
       "<table border=\"1\" class=\"dataframe\">\n",
       "  <thead>\n",
       "    <tr style=\"text-align: right;\">\n",
       "      <th></th>\n",
       "    </tr>\n",
       "  </thead>\n",
       "  <tbody>\n",
       "  </tbody>\n",
       "</table>\n",
       "</div>"
      ],
      "text/plain": [
       "Empty DataFrame\n",
       "Columns: []\n",
       "Index: []"
      ]
     },
     "execution_count": 25,
     "metadata": {},
     "output_type": "execute_result"
    }
   ],
   "source": [
    "more_than_one"
   ]
  },
  {
   "cell_type": "code",
   "execution_count": 26,
   "id": "fb0fe334",
   "metadata": {
    "scrolled": true
   },
   "outputs": [],
   "source": [
    "#set(list(more_than_one['Sheba Number'].values))"
   ]
  },
  {
   "cell_type": "code",
   "execution_count": 27,
   "id": "496a50fd",
   "metadata": {},
   "outputs": [],
   "source": [
    "# export zero_express_trips users from tehran subsheet\n",
    "data['tehran'][data['tehran']['express trips']==0].to_excel('E:/Weekly Payments/Output_files/zero_express_tehran.xlsx')"
   ]
  },
  {
   "cell_type": "code",
   "execution_count": 28,
   "id": "76697ae2",
   "metadata": {},
   "outputs": [],
   "source": [
    "# export zero_express_trips from payment subsheet\n",
    "data['payment'][data['payment']['express trips']==0].to_excel('E:/Weekly Payments/Output_files/zero_express_payment.xlsx')"
   ]
  },
  {
   "cell_type": "markdown",
   "id": "9c95cb11",
   "metadata": {},
   "source": [
    "### duplicate biker id"
   ]
  },
  {
   "cell_type": "code",
   "execution_count": 4,
   "id": "278a6732",
   "metadata": {
    "collapsed": true
   },
   "outputs": [
    {
     "ename": "KeyError",
     "evalue": "'biker id'",
     "output_type": "error",
     "traceback": [
      "\u001b[1;31m---------------------------------------------------------------------------\u001b[0m",
      "\u001b[1;31mKeyError\u001b[0m                                  Traceback (most recent call last)",
      "\u001b[1;32m~\\anaconda3\\lib\\site-packages\\pandas\\core\\indexes\\base.py\u001b[0m in \u001b[0;36mget_loc\u001b[1;34m(self, key, method, tolerance)\u001b[0m\n\u001b[0;32m   3360\u001b[0m             \u001b[1;32mtry\u001b[0m\u001b[1;33m:\u001b[0m\u001b[1;33m\u001b[0m\u001b[1;33m\u001b[0m\u001b[0m\n\u001b[1;32m-> 3361\u001b[1;33m                 \u001b[1;32mreturn\u001b[0m \u001b[0mself\u001b[0m\u001b[1;33m.\u001b[0m\u001b[0m_engine\u001b[0m\u001b[1;33m.\u001b[0m\u001b[0mget_loc\u001b[0m\u001b[1;33m(\u001b[0m\u001b[0mcasted_key\u001b[0m\u001b[1;33m)\u001b[0m\u001b[1;33m\u001b[0m\u001b[1;33m\u001b[0m\u001b[0m\n\u001b[0m\u001b[0;32m   3362\u001b[0m             \u001b[1;32mexcept\u001b[0m \u001b[0mKeyError\u001b[0m \u001b[1;32mas\u001b[0m \u001b[0merr\u001b[0m\u001b[1;33m:\u001b[0m\u001b[1;33m\u001b[0m\u001b[1;33m\u001b[0m\u001b[0m\n",
      "\u001b[1;32m~\\anaconda3\\lib\\site-packages\\pandas\\_libs\\index.pyx\u001b[0m in \u001b[0;36mpandas._libs.index.IndexEngine.get_loc\u001b[1;34m()\u001b[0m\n",
      "\u001b[1;32m~\\anaconda3\\lib\\site-packages\\pandas\\_libs\\index.pyx\u001b[0m in \u001b[0;36mpandas._libs.index.IndexEngine.get_loc\u001b[1;34m()\u001b[0m\n",
      "\u001b[1;32mpandas\\_libs\\hashtable_class_helper.pxi\u001b[0m in \u001b[0;36mpandas._libs.hashtable.PyObjectHashTable.get_item\u001b[1;34m()\u001b[0m\n",
      "\u001b[1;32mpandas\\_libs\\hashtable_class_helper.pxi\u001b[0m in \u001b[0;36mpandas._libs.hashtable.PyObjectHashTable.get_item\u001b[1;34m()\u001b[0m\n",
      "\u001b[1;31mKeyError\u001b[0m: 'biker id'",
      "\nThe above exception was the direct cause of the following exception:\n",
      "\u001b[1;31mKeyError\u001b[0m                                  Traceback (most recent call last)",
      "\u001b[1;32mC:\\Users\\SNAPPF~1\\AppData\\Local\\Temp/ipykernel_17928/3706254968.py\u001b[0m in \u001b[0;36m<module>\u001b[1;34m\u001b[0m\n\u001b[0;32m      3\u001b[0m \u001b[0mdup_biker_id\u001b[0m\u001b[1;33m=\u001b[0m\u001b[0mpd\u001b[0m\u001b[1;33m.\u001b[0m\u001b[0mDataFrame\u001b[0m\u001b[1;33m(\u001b[0m\u001b[1;33m)\u001b[0m\u001b[1;33m\u001b[0m\u001b[1;33m\u001b[0m\u001b[0m\n\u001b[0;32m      4\u001b[0m \u001b[0mcount\u001b[0m\u001b[1;33m=\u001b[0m\u001b[1;36m0\u001b[0m\u001b[1;33m\u001b[0m\u001b[1;33m\u001b[0m\u001b[0m\n\u001b[1;32m----> 5\u001b[1;33m \u001b[0mvalues\u001b[0m\u001b[1;33m=\u001b[0m\u001b[0mdata\u001b[0m\u001b[1;33m[\u001b[0m\u001b[1;34m'tehran'\u001b[0m\u001b[1;33m]\u001b[0m\u001b[1;33m[\u001b[0m\u001b[1;34m'biker id'\u001b[0m\u001b[1;33m]\u001b[0m\u001b[1;33m.\u001b[0m\u001b[0mvalue_counts\u001b[0m\u001b[1;33m(\u001b[0m\u001b[1;33m)\u001b[0m\u001b[1;33m.\u001b[0m\u001b[0mto_dict\u001b[0m\u001b[1;33m(\u001b[0m\u001b[1;33m)\u001b[0m\u001b[1;33m\u001b[0m\u001b[1;33m\u001b[0m\u001b[0m\n\u001b[0m\u001b[0;32m      6\u001b[0m \u001b[0mkeys\u001b[0m\u001b[1;33m=\u001b[0m\u001b[0mlist\u001b[0m\u001b[1;33m(\u001b[0m\u001b[0mvalues\u001b[0m\u001b[1;33m.\u001b[0m\u001b[0mkeys\u001b[0m\u001b[1;33m(\u001b[0m\u001b[1;33m)\u001b[0m\u001b[1;33m)\u001b[0m\u001b[1;33m\u001b[0m\u001b[1;33m\u001b[0m\u001b[0m\n\u001b[0;32m      7\u001b[0m \u001b[1;32mfor\u001b[0m \u001b[0mi\u001b[0m \u001b[1;32min\u001b[0m \u001b[0mrange\u001b[0m\u001b[1;33m(\u001b[0m\u001b[0mlen\u001b[0m\u001b[1;33m(\u001b[0m\u001b[0mvalues\u001b[0m\u001b[1;33m)\u001b[0m\u001b[1;33m)\u001b[0m\u001b[1;33m:\u001b[0m\u001b[1;33m\u001b[0m\u001b[1;33m\u001b[0m\u001b[0m\n",
      "\u001b[1;32m~\\anaconda3\\lib\\site-packages\\pandas\\core\\frame.py\u001b[0m in \u001b[0;36m__getitem__\u001b[1;34m(self, key)\u001b[0m\n\u001b[0;32m   3456\u001b[0m             \u001b[1;32mif\u001b[0m \u001b[0mself\u001b[0m\u001b[1;33m.\u001b[0m\u001b[0mcolumns\u001b[0m\u001b[1;33m.\u001b[0m\u001b[0mnlevels\u001b[0m \u001b[1;33m>\u001b[0m \u001b[1;36m1\u001b[0m\u001b[1;33m:\u001b[0m\u001b[1;33m\u001b[0m\u001b[1;33m\u001b[0m\u001b[0m\n\u001b[0;32m   3457\u001b[0m                 \u001b[1;32mreturn\u001b[0m \u001b[0mself\u001b[0m\u001b[1;33m.\u001b[0m\u001b[0m_getitem_multilevel\u001b[0m\u001b[1;33m(\u001b[0m\u001b[0mkey\u001b[0m\u001b[1;33m)\u001b[0m\u001b[1;33m\u001b[0m\u001b[1;33m\u001b[0m\u001b[0m\n\u001b[1;32m-> 3458\u001b[1;33m             \u001b[0mindexer\u001b[0m \u001b[1;33m=\u001b[0m \u001b[0mself\u001b[0m\u001b[1;33m.\u001b[0m\u001b[0mcolumns\u001b[0m\u001b[1;33m.\u001b[0m\u001b[0mget_loc\u001b[0m\u001b[1;33m(\u001b[0m\u001b[0mkey\u001b[0m\u001b[1;33m)\u001b[0m\u001b[1;33m\u001b[0m\u001b[1;33m\u001b[0m\u001b[0m\n\u001b[0m\u001b[0;32m   3459\u001b[0m             \u001b[1;32mif\u001b[0m \u001b[0mis_integer\u001b[0m\u001b[1;33m(\u001b[0m\u001b[0mindexer\u001b[0m\u001b[1;33m)\u001b[0m\u001b[1;33m:\u001b[0m\u001b[1;33m\u001b[0m\u001b[1;33m\u001b[0m\u001b[0m\n\u001b[0;32m   3460\u001b[0m                 \u001b[0mindexer\u001b[0m \u001b[1;33m=\u001b[0m \u001b[1;33m[\u001b[0m\u001b[0mindexer\u001b[0m\u001b[1;33m]\u001b[0m\u001b[1;33m\u001b[0m\u001b[1;33m\u001b[0m\u001b[0m\n",
      "\u001b[1;32m~\\anaconda3\\lib\\site-packages\\pandas\\core\\indexes\\base.py\u001b[0m in \u001b[0;36mget_loc\u001b[1;34m(self, key, method, tolerance)\u001b[0m\n\u001b[0;32m   3361\u001b[0m                 \u001b[1;32mreturn\u001b[0m \u001b[0mself\u001b[0m\u001b[1;33m.\u001b[0m\u001b[0m_engine\u001b[0m\u001b[1;33m.\u001b[0m\u001b[0mget_loc\u001b[0m\u001b[1;33m(\u001b[0m\u001b[0mcasted_key\u001b[0m\u001b[1;33m)\u001b[0m\u001b[1;33m\u001b[0m\u001b[1;33m\u001b[0m\u001b[0m\n\u001b[0;32m   3362\u001b[0m             \u001b[1;32mexcept\u001b[0m \u001b[0mKeyError\u001b[0m \u001b[1;32mas\u001b[0m \u001b[0merr\u001b[0m\u001b[1;33m:\u001b[0m\u001b[1;33m\u001b[0m\u001b[1;33m\u001b[0m\u001b[0m\n\u001b[1;32m-> 3363\u001b[1;33m                 \u001b[1;32mraise\u001b[0m \u001b[0mKeyError\u001b[0m\u001b[1;33m(\u001b[0m\u001b[0mkey\u001b[0m\u001b[1;33m)\u001b[0m \u001b[1;32mfrom\u001b[0m \u001b[0merr\u001b[0m\u001b[1;33m\u001b[0m\u001b[1;33m\u001b[0m\u001b[0m\n\u001b[0m\u001b[0;32m   3364\u001b[0m \u001b[1;33m\u001b[0m\u001b[0m\n\u001b[0;32m   3365\u001b[0m         \u001b[1;32mif\u001b[0m \u001b[0mis_scalar\u001b[0m\u001b[1;33m(\u001b[0m\u001b[0mkey\u001b[0m\u001b[1;33m)\u001b[0m \u001b[1;32mand\u001b[0m \u001b[0misna\u001b[0m\u001b[1;33m(\u001b[0m\u001b[0mkey\u001b[0m\u001b[1;33m)\u001b[0m \u001b[1;32mand\u001b[0m \u001b[1;32mnot\u001b[0m \u001b[0mself\u001b[0m\u001b[1;33m.\u001b[0m\u001b[0mhasnans\u001b[0m\u001b[1;33m:\u001b[0m\u001b[1;33m\u001b[0m\u001b[1;33m\u001b[0m\u001b[0m\n",
      "\u001b[1;31mKeyError\u001b[0m: 'biker id'"
     ]
    }
   ],
   "source": [
    "# find duplicate biker id\n",
    "# OUTPUT: rows with duplicate biker id\n",
    "dup_biker_id=pd.DataFrame()\n",
    "count=0\n",
    "values=data['tehran']['biker id'].value_counts().to_dict()\n",
    "keys=list(values.keys())\n",
    "for i in range(len(values)):\n",
    "    if values[keys[i]]>1:\n",
    "        count+=1\n",
    "        dup_biker_id=dup_biker_id.append(data['tehran'][data['tehran']['biker id']==keys[i]])\n",
    "print('Found '+str(count)+' duplicate biker id')\n",
    "if count>0:\n",
    "    dup_biker_id.to_excel('E:/Weekly Payments/Output_files/duplicate_biker_ids.xlsx')\n",
    "dup_biker_id"
   ]
  },
  {
   "cell_type": "code",
   "execution_count": 30,
   "id": "758d3562",
   "metadata": {},
   "outputs": [
    {
     "name": "stdout",
     "output_type": "stream",
     "text": [
      "Found 0 duplicate phone numbers\n"
     ]
    },
    {
     "data": {
      "text/html": [
       "<div>\n",
       "<style scoped>\n",
       "    .dataframe tbody tr th:only-of-type {\n",
       "        vertical-align: middle;\n",
       "    }\n",
       "\n",
       "    .dataframe tbody tr th {\n",
       "        vertical-align: top;\n",
       "    }\n",
       "\n",
       "    .dataframe thead th {\n",
       "        text-align: right;\n",
       "    }\n",
       "</style>\n",
       "<table border=\"1\" class=\"dataframe\">\n",
       "  <thead>\n",
       "    <tr style=\"text-align: right;\">\n",
       "      <th></th>\n",
       "    </tr>\n",
       "  </thead>\n",
       "  <tbody>\n",
       "  </tbody>\n",
       "</table>\n",
       "</div>"
      ],
      "text/plain": [
       "Empty DataFrame\n",
       "Columns: []\n",
       "Index: []"
      ]
     },
     "execution_count": 30,
     "metadata": {},
     "output_type": "execute_result"
    }
   ],
   "source": [
    "# finds duplicate cellphones\n",
    "# OUTPUT: file that contains rows of data with duplicate cellphones\n",
    "dup_Cellphone=pd.DataFrame()\n",
    "count=0\n",
    "values=data['tehran']['cellphone'].value_counts().to_dict()\n",
    "keys=list(values.keys())\n",
    "for i in range(len(values)):\n",
    "    if values[keys[i]]>1:\n",
    "        count+=1\n",
    "        dup_Cellphone=dup_Cellphone.append(data['tehran'][data['tehran']['cellphone']==keys[i]])\n",
    "print('Found '+str(count)+' duplicate phone numbers')\n",
    "if count>0:\n",
    "    dup_Cellphone.to_excel('E:/Weekly Payments/Output_files/duplicate_cell_phone.xlsx')\n",
    "dup_Cellphone"
   ]
  },
  {
   "cell_type": "markdown",
   "id": "daa15ab0",
   "metadata": {},
   "source": [
    "### filter positiva total payable values from tehran sub sheet"
   ]
  },
  {
   "cell_type": "code",
   "execution_count": 31,
   "id": "37f288d7",
   "metadata": {},
   "outputs": [
    {
     "name": "stdout",
     "output_type": "stream",
     "text": [
      "(5550, 33)\n"
     ]
    }
   ],
   "source": [
    "positive_payable=data['tehran'][data['tehran']['total payable']>0]\n",
    "print(positive_payable.shape)"
   ]
  },
  {
   "cell_type": "code",
   "execution_count": 29,
   "id": "594d4524",
   "metadata": {},
   "outputs": [
    {
     "name": "stdout",
     "output_type": "stream",
     "text": [
      "(14, 32)\n"
     ]
    }
   ],
   "source": [
    "# filter negative total Payable\n",
    "negative_payable=data['tehran'][data['tehran']['total payable']<=0]\n",
    "print(negative_payable.shape)"
   ]
  },
  {
   "cell_type": "markdown",
   "id": "84a68dc7",
   "metadata": {},
   "source": [
    "### remove no sheba data from positive payables"
   ]
  },
  {
   "cell_type": "code",
   "execution_count": 33,
   "id": "7f8549aa",
   "metadata": {
    "scrolled": true
   },
   "outputs": [],
   "source": [
    "positive_payable_no_sheba_removed=positive_payable[~positive_payable['biker id'].isin(data['no sheba']['biker id'])]"
   ]
  },
  {
   "cell_type": "code",
   "execution_count": 34,
   "id": "768da6c5",
   "metadata": {},
   "outputs": [
    {
     "data": {
      "text/plain": [
       "(5484, 33)"
      ]
     },
     "execution_count": 34,
     "metadata": {},
     "output_type": "execute_result"
    }
   ],
   "source": [
    "positive_payable_no_sheba_removed.shape"
   ]
  },
  {
   "cell_type": "code",
   "execution_count": 35,
   "id": "208cf0db",
   "metadata": {},
   "outputs": [],
   "source": [
    "tehran_positive_payable=positive_payable_no_sheba_removed[['biker id', 'total payable', 'name_family','sheba number']]\n",
    "pay_data=data['payment'][['biker id', 'total payable', 'name_family', 'sheba number'] ]"
   ]
  },
  {
   "cell_type": "code",
   "execution_count": 36,
   "id": "dfc96d35",
   "metadata": {},
   "outputs": [],
   "source": [
    "mi=pd.merge(tehran_positive_payable, pay_data, on='biker id', how='left')"
   ]
  },
  {
   "cell_type": "code",
   "execution_count": 37,
   "id": "2bb84409",
   "metadata": {},
   "outputs": [
    {
     "data": {
      "text/html": [
       "<div>\n",
       "<style scoped>\n",
       "    .dataframe tbody tr th:only-of-type {\n",
       "        vertical-align: middle;\n",
       "    }\n",
       "\n",
       "    .dataframe tbody tr th {\n",
       "        vertical-align: top;\n",
       "    }\n",
       "\n",
       "    .dataframe thead th {\n",
       "        text-align: right;\n",
       "    }\n",
       "</style>\n",
       "<table border=\"1\" class=\"dataframe\">\n",
       "  <thead>\n",
       "    <tr style=\"text-align: right;\">\n",
       "      <th></th>\n",
       "      <th>biker id</th>\n",
       "      <th>total payable_x</th>\n",
       "      <th>name_family_x</th>\n",
       "      <th>sheba number_x</th>\n",
       "      <th>total payable_y</th>\n",
       "      <th>name_family_y</th>\n",
       "      <th>sheba number_y</th>\n",
       "    </tr>\n",
       "  </thead>\n",
       "  <tbody>\n",
       "    <tr>\n",
       "      <th>0</th>\n",
       "      <td>16</td>\n",
       "      <td>755500</td>\n",
       "      <td>مرتضی  بخشی</td>\n",
       "      <td>IR350170000000302202936005</td>\n",
       "      <td>755500</td>\n",
       "      <td>مرتضی  بخشی</td>\n",
       "      <td>IR350170000000302202936005</td>\n",
       "    </tr>\n",
       "    <tr>\n",
       "      <th>1</th>\n",
       "      <td>277</td>\n",
       "      <td>4050400</td>\n",
       "      <td>مصطفی  خفاجه نیا</td>\n",
       "      <td>IR360150000000817302320910</td>\n",
       "      <td>4050400</td>\n",
       "      <td>مصطفی  خفاجه نیا</td>\n",
       "      <td>IR360150000000817302320910</td>\n",
       "    </tr>\n",
       "    <tr>\n",
       "      <th>2</th>\n",
       "      <td>289</td>\n",
       "      <td>3598000</td>\n",
       "      <td>رضا  پروین</td>\n",
       "      <td>IR750600380970011115506001</td>\n",
       "      <td>3598000</td>\n",
       "      <td>رضا  پروین</td>\n",
       "      <td>IR750600380970011115506001</td>\n",
       "    </tr>\n",
       "    <tr>\n",
       "      <th>3</th>\n",
       "      <td>303</td>\n",
       "      <td>2358000</td>\n",
       "      <td>محمد ازاد</td>\n",
       "      <td>IR190170000000212611964006</td>\n",
       "      <td>2358000</td>\n",
       "      <td>محمد ازاد</td>\n",
       "      <td>IR190170000000212611964006</td>\n",
       "    </tr>\n",
       "    <tr>\n",
       "      <th>4</th>\n",
       "      <td>307</td>\n",
       "      <td>908500</td>\n",
       "      <td>بهروز مومنی ثانی رشخوار</td>\n",
       "      <td>IR470540103282000099657001</td>\n",
       "      <td>908500</td>\n",
       "      <td>بهروز مومنی ثانی رشخوار</td>\n",
       "      <td>IR470540103282000099657001</td>\n",
       "    </tr>\n",
       "    <tr>\n",
       "      <th>...</th>\n",
       "      <td>...</td>\n",
       "      <td>...</td>\n",
       "      <td>...</td>\n",
       "      <td>...</td>\n",
       "      <td>...</td>\n",
       "      <td>...</td>\n",
       "      <td>...</td>\n",
       "    </tr>\n",
       "    <tr>\n",
       "      <th>5479</th>\n",
       "      <td>49685</td>\n",
       "      <td>498000</td>\n",
       "      <td>عاشور خواجوی</td>\n",
       "      <td>IR190150000003130001739096</td>\n",
       "      <td>498000</td>\n",
       "      <td>عاشور خواجوی</td>\n",
       "      <td>IR190150000003130001739096</td>\n",
       "    </tr>\n",
       "    <tr>\n",
       "      <th>5480</th>\n",
       "      <td>49689</td>\n",
       "      <td>48000</td>\n",
       "      <td>معرفت احمدی</td>\n",
       "      <td>IR470150000003130004395228</td>\n",
       "      <td>48000</td>\n",
       "      <td>معرفت احمدی</td>\n",
       "      <td>IR470150000003130004395228</td>\n",
       "    </tr>\n",
       "    <tr>\n",
       "      <th>5481</th>\n",
       "      <td>49697</td>\n",
       "      <td>395000</td>\n",
       "      <td>مهدی میرزایی</td>\n",
       "      <td>IR230170000000218759052008</td>\n",
       "      <td>395000</td>\n",
       "      <td>مهدی میرزایی</td>\n",
       "      <td>IR230170000000218759052008</td>\n",
       "    </tr>\n",
       "    <tr>\n",
       "      <th>5482</th>\n",
       "      <td>49701</td>\n",
       "      <td>165000</td>\n",
       "      <td>علی مرادی</td>\n",
       "      <td>IR430190000000116903927007</td>\n",
       "      <td>165000</td>\n",
       "      <td>علی مرادی</td>\n",
       "      <td>IR430190000000116903927007</td>\n",
       "    </tr>\n",
       "    <tr>\n",
       "      <th>5483</th>\n",
       "      <td>49705</td>\n",
       "      <td>60000</td>\n",
       "      <td>میلاد آدینه وند</td>\n",
       "      <td>IR280170000000355344471006</td>\n",
       "      <td>60000</td>\n",
       "      <td>میلاد آدینه وند</td>\n",
       "      <td>IR280170000000355344471006</td>\n",
       "    </tr>\n",
       "  </tbody>\n",
       "</table>\n",
       "<p>5484 rows × 7 columns</p>\n",
       "</div>"
      ],
      "text/plain": [
       "      biker id  total payable_x            name_family_x  \\\n",
       "0           16           755500             مرتضی  بخشی    \n",
       "1          277          4050400         مصطفی  خفاجه نیا   \n",
       "2          289          3598000              رضا  پروین    \n",
       "3          303          2358000                محمد ازاد   \n",
       "4          307           908500  بهروز مومنی ثانی رشخوار   \n",
       "...        ...              ...                      ...   \n",
       "5479     49685           498000             عاشور خواجوی   \n",
       "5480     49689            48000              معرفت احمدی   \n",
       "5481     49697           395000             مهدی میرزایی   \n",
       "5482     49701           165000                علی مرادی   \n",
       "5483     49705            60000          میلاد آدینه وند   \n",
       "\n",
       "                  sheba number_x  total payable_y            name_family_y  \\\n",
       "0     IR350170000000302202936005           755500             مرتضی  بخشی    \n",
       "1     IR360150000000817302320910          4050400         مصطفی  خفاجه نیا   \n",
       "2     IR750600380970011115506001          3598000              رضا  پروین    \n",
       "3     IR190170000000212611964006          2358000                محمد ازاد   \n",
       "4     IR470540103282000099657001           908500  بهروز مومنی ثانی رشخوار   \n",
       "...                          ...              ...                      ...   \n",
       "5479  IR190150000003130001739096           498000             عاشور خواجوی   \n",
       "5480  IR470150000003130004395228            48000              معرفت احمدی   \n",
       "5481  IR230170000000218759052008           395000             مهدی میرزایی   \n",
       "5482  IR430190000000116903927007           165000                علی مرادی   \n",
       "5483  IR280170000000355344471006            60000          میلاد آدینه وند   \n",
       "\n",
       "                  sheba number_y  \n",
       "0     IR350170000000302202936005  \n",
       "1     IR360150000000817302320910  \n",
       "2     IR750600380970011115506001  \n",
       "3     IR190170000000212611964006  \n",
       "4     IR470540103282000099657001  \n",
       "...                          ...  \n",
       "5479  IR190150000003130001739096  \n",
       "5480  IR470150000003130004395228  \n",
       "5481  IR230170000000218759052008  \n",
       "5482  IR430190000000116903927007  \n",
       "5483  IR280170000000355344471006  \n",
       "\n",
       "[5484 rows x 7 columns]"
      ]
     },
     "execution_count": 37,
     "metadata": {},
     "output_type": "execute_result"
    }
   ],
   "source": [
    "mi"
   ]
  },
  {
   "cell_type": "code",
   "execution_count": 38,
   "id": "7fccfaf1",
   "metadata": {},
   "outputs": [
    {
     "data": {
      "text/html": [
       "<div>\n",
       "<style scoped>\n",
       "    .dataframe tbody tr th:only-of-type {\n",
       "        vertical-align: middle;\n",
       "    }\n",
       "\n",
       "    .dataframe tbody tr th {\n",
       "        vertical-align: top;\n",
       "    }\n",
       "\n",
       "    .dataframe thead th {\n",
       "        text-align: right;\n",
       "    }\n",
       "</style>\n",
       "<table border=\"1\" class=\"dataframe\">\n",
       "  <thead>\n",
       "    <tr style=\"text-align: right;\">\n",
       "      <th></th>\n",
       "      <th>biker id</th>\n",
       "      <th>total payable_x</th>\n",
       "      <th>name_family_x</th>\n",
       "      <th>sheba number_x</th>\n",
       "      <th>total payable_y</th>\n",
       "      <th>name_family_y</th>\n",
       "      <th>sheba number_y</th>\n",
       "    </tr>\n",
       "  </thead>\n",
       "  <tbody>\n",
       "  </tbody>\n",
       "</table>\n",
       "</div>"
      ],
      "text/plain": [
       "Empty DataFrame\n",
       "Columns: [biker id, total payable_x, name_family_x, sheba number_x, total payable_y, name_family_y, sheba number_y]\n",
       "Index: []"
      ]
     },
     "execution_count": 38,
     "metadata": {},
     "output_type": "execute_result"
    }
   ],
   "source": [
    "# users who are in tehran list and not in payment list\n",
    "mi[mi['sheba number_y'].isnull()]"
   ]
  },
  {
   "cell_type": "code",
   "execution_count": 39,
   "id": "2fa26de3",
   "metadata": {},
   "outputs": [
    {
     "data": {
      "text/html": [
       "<div>\n",
       "<style scoped>\n",
       "    .dataframe tbody tr th:only-of-type {\n",
       "        vertical-align: middle;\n",
       "    }\n",
       "\n",
       "    .dataframe tbody tr th {\n",
       "        vertical-align: top;\n",
       "    }\n",
       "\n",
       "    .dataframe thead th {\n",
       "        text-align: right;\n",
       "    }\n",
       "</style>\n",
       "<table border=\"1\" class=\"dataframe\">\n",
       "  <thead>\n",
       "    <tr style=\"text-align: right;\">\n",
       "      <th></th>\n",
       "      <th>biker id</th>\n",
       "      <th>total payable_x</th>\n",
       "      <th>name_family_x</th>\n",
       "      <th>sheba number_x</th>\n",
       "      <th>total payable_y</th>\n",
       "      <th>name_family_y</th>\n",
       "      <th>sheba number_y</th>\n",
       "    </tr>\n",
       "  </thead>\n",
       "  <tbody>\n",
       "  </tbody>\n",
       "</table>\n",
       "</div>"
      ],
      "text/plain": [
       "Empty DataFrame\n",
       "Columns: [biker id, total payable_x, name_family_x, sheba number_x, total payable_y, name_family_y, sheba number_y]\n",
       "Index: []"
      ]
     },
     "execution_count": 39,
     "metadata": {},
     "output_type": "execute_result"
    }
   ],
   "source": [
    "mi[mi['sheba number_x'].isnull()]"
   ]
  },
  {
   "cell_type": "code",
   "execution_count": 40,
   "id": "3191dd86",
   "metadata": {},
   "outputs": [
    {
     "name": "stdout",
     "output_type": "stream",
     "text": [
      "payable bikers in both sheers -Tehran and Payment - are the same\n"
     ]
    }
   ],
   "source": [
    "if mi['sheba number_y'].isnull().sum()==0:\n",
    "    print('payable bikers in both sheers -Tehran and Payment - are the same')\n",
    "else:\n",
    "    print('ERROR-> OUTPUT: users who are in tehran file and not in payment file')\n",
    "    output=mi[mi['sheba number_y'].isnull()]\n",
    "    output.to_excel('E:/Weekly Payments/missed_in_payment_bikers.xlsx')"
   ]
  },
  {
   "cell_type": "code",
   "execution_count": 41,
   "id": "072e569f",
   "metadata": {},
   "outputs": [],
   "source": [
    "tehran_comp_data=data['tehran']\n",
    "noSheba_comp_data=data['no sheba']\n",
    "payment_comp_data=data['payment']"
   ]
  },
  {
   "cell_type": "code",
   "execution_count": 42,
   "id": "ea826640",
   "metadata": {},
   "outputs": [],
   "source": [
    "# remove no sheba and also remove negative payables from tehran sub sheet\n",
    "tehran_comp_data=tehran_comp_data[tehran_comp_data['total payable']>0]\n",
    "tehran_comp_data=tehran_comp_data[~tehran_comp_data['biker id'].isin(list(noSheba_comp_data['biker id']))]"
   ]
  },
  {
   "cell_type": "code",
   "execution_count": 43,
   "id": "4d039727",
   "metadata": {},
   "outputs": [],
   "source": [
    "tehran_comp_data=tehran_comp_data[['biker id', 'sheba number','total payable','name_family','express trips']]\n",
    "payment_comp_data=payment_comp_data[['biker id', 'sheba number','total payable','name_family','express trips']]"
   ]
  },
  {
   "cell_type": "code",
   "execution_count": 44,
   "id": "898d86f7",
   "metadata": {},
   "outputs": [],
   "source": [
    "aa=pd.merge(tehran_comp_data,payment_comp_data, on='biker id', how='left')"
   ]
  },
  {
   "cell_type": "code",
   "execution_count": 45,
   "id": "cb0d83ff",
   "metadata": {},
   "outputs": [
    {
     "data": {
      "text/plain": [
       "0"
      ]
     },
     "execution_count": 45,
     "metadata": {},
     "output_type": "execute_result"
    }
   ],
   "source": [
    "aa['express trips_y'].isnull().sum()"
   ]
  },
  {
   "cell_type": "code",
   "execution_count": 46,
   "id": "840390d7",
   "metadata": {},
   "outputs": [],
   "source": [
    "tehran_comp_data.reset_index(drop=True, inplace=True)\n",
    "payment_comp_data.reset_index(drop=True, inplace=True)"
   ]
  },
  {
   "cell_type": "code",
   "execution_count": 47,
   "id": "771966f4",
   "metadata": {
    "scrolled": true
   },
   "outputs": [
    {
     "name": "stderr",
     "output_type": "stream",
     "text": [
      "C:\\Users\\SnappFood\\AppData\\Roaming\\Python\\Python37\\site-packages\\ipykernel_launcher.py:2: SettingWithCopyWarning: \n",
      "A value is trying to be set on a copy of a slice from a DataFrame.\n",
      "Try using .loc[row_indexer,col_indexer] = value instead\n",
      "\n",
      "See the caveats in the documentation: https://pandas.pydata.org/pandas-docs/stable/user_guide/indexing.html#returning-a-view-versus-a-copy\n",
      "  \n"
     ]
    }
   ],
   "source": [
    "tehran_comp_data['concated'] = tehran_comp_data['biker id'].apply(str)+'_'+tehran_comp_data['sheba number'].apply(str)+'_'+tehran_comp_data['total payable'].apply(str)+'_'+tehran_comp_data['name_family'].apply(str)\n",
    "payment_comp_data['concated'] = payment_comp_data['biker id'].apply(str)+'_'+payment_comp_data['sheba number'].apply(str)+'_'+payment_comp_data['total payable'].apply(str)+'_'+payment_comp_data['name_family'].apply(str)"
   ]
  },
  {
   "cell_type": "code",
   "execution_count": 48,
   "id": "a19ae8a6",
   "metadata": {},
   "outputs": [
    {
     "data": {
      "text/html": [
       "<div>\n",
       "<style scoped>\n",
       "    .dataframe tbody tr th:only-of-type {\n",
       "        vertical-align: middle;\n",
       "    }\n",
       "\n",
       "    .dataframe tbody tr th {\n",
       "        vertical-align: top;\n",
       "    }\n",
       "\n",
       "    .dataframe thead th {\n",
       "        text-align: right;\n",
       "    }\n",
       "</style>\n",
       "<table border=\"1\" class=\"dataframe\">\n",
       "  <thead>\n",
       "    <tr style=\"text-align: right;\">\n",
       "      <th></th>\n",
       "      <th>biker id</th>\n",
       "      <th>sheba number</th>\n",
       "      <th>total payable</th>\n",
       "      <th>name_family</th>\n",
       "      <th>express trips</th>\n",
       "      <th>concated</th>\n",
       "    </tr>\n",
       "  </thead>\n",
       "  <tbody>\n",
       "    <tr>\n",
       "      <th>0</th>\n",
       "      <td>16</td>\n",
       "      <td>IR350170000000302202936005</td>\n",
       "      <td>755500</td>\n",
       "      <td>مرتضی  بخشی</td>\n",
       "      <td>53</td>\n",
       "      <td>16_IR350170000000302202936005_755500_مرتضی  بخشی</td>\n",
       "    </tr>\n",
       "    <tr>\n",
       "      <th>1</th>\n",
       "      <td>277</td>\n",
       "      <td>IR360150000000817302320910</td>\n",
       "      <td>4050400</td>\n",
       "      <td>مصطفی  خفاجه نیا</td>\n",
       "      <td>312</td>\n",
       "      <td>277_IR360150000000817302320910_4050400_مصطفی  ...</td>\n",
       "    </tr>\n",
       "    <tr>\n",
       "      <th>2</th>\n",
       "      <td>289</td>\n",
       "      <td>IR750600380970011115506001</td>\n",
       "      <td>3598000</td>\n",
       "      <td>رضا  پروین</td>\n",
       "      <td>255</td>\n",
       "      <td>289_IR750600380970011115506001_3598000_رضا  پر...</td>\n",
       "    </tr>\n",
       "    <tr>\n",
       "      <th>3</th>\n",
       "      <td>303</td>\n",
       "      <td>IR190170000000212611964006</td>\n",
       "      <td>2358000</td>\n",
       "      <td>محمد ازاد</td>\n",
       "      <td>194</td>\n",
       "      <td>303_IR190170000000212611964006_2358000_محمد ازاد</td>\n",
       "    </tr>\n",
       "    <tr>\n",
       "      <th>4</th>\n",
       "      <td>307</td>\n",
       "      <td>IR470540103282000099657001</td>\n",
       "      <td>908500</td>\n",
       "      <td>بهروز مومنی ثانی رشخوار</td>\n",
       "      <td>67</td>\n",
       "      <td>307_IR470540103282000099657001_908500_بهروز مو...</td>\n",
       "    </tr>\n",
       "    <tr>\n",
       "      <th>...</th>\n",
       "      <td>...</td>\n",
       "      <td>...</td>\n",
       "      <td>...</td>\n",
       "      <td>...</td>\n",
       "      <td>...</td>\n",
       "      <td>...</td>\n",
       "    </tr>\n",
       "    <tr>\n",
       "      <th>5479</th>\n",
       "      <td>49689</td>\n",
       "      <td>IR470150000003130004395228</td>\n",
       "      <td>48000</td>\n",
       "      <td>معرفت احمدی</td>\n",
       "      <td>3</td>\n",
       "      <td>49689_IR470150000003130004395228_48000_معرفت ا...</td>\n",
       "    </tr>\n",
       "    <tr>\n",
       "      <th>5480</th>\n",
       "      <td>49697</td>\n",
       "      <td>IR230170000000218759052008</td>\n",
       "      <td>395000</td>\n",
       "      <td>مهدی میرزایی</td>\n",
       "      <td>31</td>\n",
       "      <td>49697_IR230170000000218759052008_395000_مهدی م...</td>\n",
       "    </tr>\n",
       "    <tr>\n",
       "      <th>5481</th>\n",
       "      <td>49701</td>\n",
       "      <td>IR430190000000116903927007</td>\n",
       "      <td>165000</td>\n",
       "      <td>علی مرادی</td>\n",
       "      <td>12</td>\n",
       "      <td>49701_IR430190000000116903927007_165000_علی مرادی</td>\n",
       "    </tr>\n",
       "    <tr>\n",
       "      <th>5482</th>\n",
       "      <td>49705</td>\n",
       "      <td>IR280170000000355344471006</td>\n",
       "      <td>60000</td>\n",
       "      <td>میلاد آدینه وند</td>\n",
       "      <td>3</td>\n",
       "      <td>49705_IR280170000000355344471006_60000_میلاد آ...</td>\n",
       "    </tr>\n",
       "    <tr>\n",
       "      <th>5483</th>\n",
       "      <td>13898</td>\n",
       "      <td>IR900140040000710122488061</td>\n",
       "      <td>554900</td>\n",
       "      <td>محمد حیدری</td>\n",
       "      <td>40</td>\n",
       "      <td>13898_IR900140040000710122488061_554900_محمد ح...</td>\n",
       "    </tr>\n",
       "  </tbody>\n",
       "</table>\n",
       "<p>5484 rows × 6 columns</p>\n",
       "</div>"
      ],
      "text/plain": [
       "      biker id                sheba number  total payable  \\\n",
       "0           16  IR350170000000302202936005         755500   \n",
       "1          277  IR360150000000817302320910        4050400   \n",
       "2          289  IR750600380970011115506001        3598000   \n",
       "3          303  IR190170000000212611964006        2358000   \n",
       "4          307  IR470540103282000099657001         908500   \n",
       "...        ...                         ...            ...   \n",
       "5479     49689  IR470150000003130004395228          48000   \n",
       "5480     49697  IR230170000000218759052008         395000   \n",
       "5481     49701  IR430190000000116903927007         165000   \n",
       "5482     49705  IR280170000000355344471006          60000   \n",
       "5483     13898  IR900140040000710122488061         554900   \n",
       "\n",
       "                  name_family  express trips  \\\n",
       "0                مرتضی  بخشی              53   \n",
       "1            مصطفی  خفاجه نیا            312   \n",
       "2                 رضا  پروین             255   \n",
       "3                   محمد ازاد            194   \n",
       "4     بهروز مومنی ثانی رشخوار             67   \n",
       "...                       ...            ...   \n",
       "5479              معرفت احمدی              3   \n",
       "5480             مهدی میرزایی             31   \n",
       "5481                علی مرادی             12   \n",
       "5482          میلاد آدینه وند              3   \n",
       "5483               محمد حیدری             40   \n",
       "\n",
       "                                               concated  \n",
       "0     16_IR350170000000302202936005_755500_مرتضی  بخشی   \n",
       "1     277_IR360150000000817302320910_4050400_مصطفی  ...  \n",
       "2     289_IR750600380970011115506001_3598000_رضا  پر...  \n",
       "3      303_IR190170000000212611964006_2358000_محمد ازاد  \n",
       "4     307_IR470540103282000099657001_908500_بهروز مو...  \n",
       "...                                                 ...  \n",
       "5479  49689_IR470150000003130004395228_48000_معرفت ا...  \n",
       "5480  49697_IR230170000000218759052008_395000_مهدی م...  \n",
       "5481  49701_IR430190000000116903927007_165000_علی مرادی  \n",
       "5482  49705_IR280170000000355344471006_60000_میلاد آ...  \n",
       "5483  13898_IR900140040000710122488061_554900_محمد ح...  \n",
       "\n",
       "[5484 rows x 6 columns]"
      ]
     },
     "execution_count": 48,
     "metadata": {},
     "output_type": "execute_result"
    }
   ],
   "source": [
    "payment_comp_data"
   ]
  },
  {
   "cell_type": "code",
   "execution_count": 49,
   "id": "6c4ba84c",
   "metadata": {},
   "outputs": [
    {
     "data": {
      "text/html": [
       "<div>\n",
       "<style scoped>\n",
       "    .dataframe tbody tr th:only-of-type {\n",
       "        vertical-align: middle;\n",
       "    }\n",
       "\n",
       "    .dataframe tbody tr th {\n",
       "        vertical-align: top;\n",
       "    }\n",
       "\n",
       "    .dataframe thead th {\n",
       "        text-align: right;\n",
       "    }\n",
       "</style>\n",
       "<table border=\"1\" class=\"dataframe\">\n",
       "  <thead>\n",
       "    <tr style=\"text-align: right;\">\n",
       "      <th></th>\n",
       "      <th>biker id</th>\n",
       "      <th>sheba number</th>\n",
       "      <th>total payable</th>\n",
       "      <th>name_family</th>\n",
       "      <th>express trips</th>\n",
       "      <th>concated</th>\n",
       "    </tr>\n",
       "  </thead>\n",
       "  <tbody>\n",
       "    <tr>\n",
       "      <th>0</th>\n",
       "      <td>16</td>\n",
       "      <td>IR350170000000302202936005</td>\n",
       "      <td>755500</td>\n",
       "      <td>مرتضی  بخشی</td>\n",
       "      <td>53</td>\n",
       "      <td>16_IR350170000000302202936005_755500_مرتضی  بخشی</td>\n",
       "    </tr>\n",
       "    <tr>\n",
       "      <th>1</th>\n",
       "      <td>277</td>\n",
       "      <td>IR360150000000817302320910</td>\n",
       "      <td>4050400</td>\n",
       "      <td>مصطفی  خفاجه نیا</td>\n",
       "      <td>312</td>\n",
       "      <td>277_IR360150000000817302320910_4050400_مصطفی  ...</td>\n",
       "    </tr>\n",
       "    <tr>\n",
       "      <th>2</th>\n",
       "      <td>289</td>\n",
       "      <td>IR750600380970011115506001</td>\n",
       "      <td>3598000</td>\n",
       "      <td>رضا  پروین</td>\n",
       "      <td>255</td>\n",
       "      <td>289_IR750600380970011115506001_3598000_رضا  پر...</td>\n",
       "    </tr>\n",
       "    <tr>\n",
       "      <th>3</th>\n",
       "      <td>303</td>\n",
       "      <td>IR190170000000212611964006</td>\n",
       "      <td>2358000</td>\n",
       "      <td>محمد ازاد</td>\n",
       "      <td>194</td>\n",
       "      <td>303_IR190170000000212611964006_2358000_محمد ازاد</td>\n",
       "    </tr>\n",
       "    <tr>\n",
       "      <th>4</th>\n",
       "      <td>307</td>\n",
       "      <td>IR470540103282000099657001</td>\n",
       "      <td>908500</td>\n",
       "      <td>بهروز مومنی ثانی رشخوار</td>\n",
       "      <td>67</td>\n",
       "      <td>307_IR470540103282000099657001_908500_بهروز مو...</td>\n",
       "    </tr>\n",
       "    <tr>\n",
       "      <th>...</th>\n",
       "      <td>...</td>\n",
       "      <td>...</td>\n",
       "      <td>...</td>\n",
       "      <td>...</td>\n",
       "      <td>...</td>\n",
       "      <td>...</td>\n",
       "    </tr>\n",
       "    <tr>\n",
       "      <th>5479</th>\n",
       "      <td>49685</td>\n",
       "      <td>IR190150000003130001739096</td>\n",
       "      <td>498000</td>\n",
       "      <td>عاشور خواجوی</td>\n",
       "      <td>40</td>\n",
       "      <td>49685_IR190150000003130001739096_498000_عاشور ...</td>\n",
       "    </tr>\n",
       "    <tr>\n",
       "      <th>5480</th>\n",
       "      <td>49689</td>\n",
       "      <td>IR470150000003130004395228</td>\n",
       "      <td>48000</td>\n",
       "      <td>معرفت احمدی</td>\n",
       "      <td>3</td>\n",
       "      <td>49689_IR470150000003130004395228_48000_معرفت ا...</td>\n",
       "    </tr>\n",
       "    <tr>\n",
       "      <th>5481</th>\n",
       "      <td>49697</td>\n",
       "      <td>IR230170000000218759052008</td>\n",
       "      <td>395000</td>\n",
       "      <td>مهدی میرزایی</td>\n",
       "      <td>31</td>\n",
       "      <td>49697_IR230170000000218759052008_395000_مهدی م...</td>\n",
       "    </tr>\n",
       "    <tr>\n",
       "      <th>5482</th>\n",
       "      <td>49701</td>\n",
       "      <td>IR430190000000116903927007</td>\n",
       "      <td>165000</td>\n",
       "      <td>علی مرادی</td>\n",
       "      <td>12</td>\n",
       "      <td>49701_IR430190000000116903927007_165000_علی مرادی</td>\n",
       "    </tr>\n",
       "    <tr>\n",
       "      <th>5483</th>\n",
       "      <td>49705</td>\n",
       "      <td>IR280170000000355344471006</td>\n",
       "      <td>60000</td>\n",
       "      <td>میلاد آدینه وند</td>\n",
       "      <td>3</td>\n",
       "      <td>49705_IR280170000000355344471006_60000_میلاد آ...</td>\n",
       "    </tr>\n",
       "  </tbody>\n",
       "</table>\n",
       "<p>5484 rows × 6 columns</p>\n",
       "</div>"
      ],
      "text/plain": [
       "      biker id                sheba number  total payable  \\\n",
       "0           16  IR350170000000302202936005         755500   \n",
       "1          277  IR360150000000817302320910        4050400   \n",
       "2          289  IR750600380970011115506001        3598000   \n",
       "3          303  IR190170000000212611964006        2358000   \n",
       "4          307  IR470540103282000099657001         908500   \n",
       "...        ...                         ...            ...   \n",
       "5479     49685  IR190150000003130001739096         498000   \n",
       "5480     49689  IR470150000003130004395228          48000   \n",
       "5481     49697  IR230170000000218759052008         395000   \n",
       "5482     49701  IR430190000000116903927007         165000   \n",
       "5483     49705  IR280170000000355344471006          60000   \n",
       "\n",
       "                  name_family  express trips  \\\n",
       "0                مرتضی  بخشی              53   \n",
       "1            مصطفی  خفاجه نیا            312   \n",
       "2                 رضا  پروین             255   \n",
       "3                   محمد ازاد            194   \n",
       "4     بهروز مومنی ثانی رشخوار             67   \n",
       "...                       ...            ...   \n",
       "5479             عاشور خواجوی             40   \n",
       "5480              معرفت احمدی              3   \n",
       "5481             مهدی میرزایی             31   \n",
       "5482                علی مرادی             12   \n",
       "5483          میلاد آدینه وند              3   \n",
       "\n",
       "                                               concated  \n",
       "0     16_IR350170000000302202936005_755500_مرتضی  بخشی   \n",
       "1     277_IR360150000000817302320910_4050400_مصطفی  ...  \n",
       "2     289_IR750600380970011115506001_3598000_رضا  پر...  \n",
       "3      303_IR190170000000212611964006_2358000_محمد ازاد  \n",
       "4     307_IR470540103282000099657001_908500_بهروز مو...  \n",
       "...                                                 ...  \n",
       "5479  49685_IR190150000003130001739096_498000_عاشور ...  \n",
       "5480  49689_IR470150000003130004395228_48000_معرفت ا...  \n",
       "5481  49697_IR230170000000218759052008_395000_مهدی م...  \n",
       "5482  49701_IR430190000000116903927007_165000_علی مرادی  \n",
       "5483  49705_IR280170000000355344471006_60000_میلاد آ...  \n",
       "\n",
       "[5484 rows x 6 columns]"
      ]
     },
     "execution_count": 49,
     "metadata": {},
     "output_type": "execute_result"
    }
   ],
   "source": [
    "tehran_comp_data"
   ]
  },
  {
   "cell_type": "code",
   "execution_count": 50,
   "id": "3cc8bc4a",
   "metadata": {},
   "outputs": [],
   "source": [
    "results_of_diff=tehran_comp_data['concated'].compare(payment_comp_data['concated'])"
   ]
  },
  {
   "cell_type": "code",
   "execution_count": 51,
   "id": "ef93ba6d",
   "metadata": {},
   "outputs": [
    {
     "data": {
      "text/html": [
       "<div>\n",
       "<style scoped>\n",
       "    .dataframe tbody tr th:only-of-type {\n",
       "        vertical-align: middle;\n",
       "    }\n",
       "\n",
       "    .dataframe tbody tr th {\n",
       "        vertical-align: top;\n",
       "    }\n",
       "\n",
       "    .dataframe thead th {\n",
       "        text-align: right;\n",
       "    }\n",
       "</style>\n",
       "<table border=\"1\" class=\"dataframe\">\n",
       "  <thead>\n",
       "    <tr style=\"text-align: right;\">\n",
       "      <th></th>\n",
       "      <th>self</th>\n",
       "      <th>other</th>\n",
       "    </tr>\n",
       "  </thead>\n",
       "  <tbody>\n",
       "    <tr>\n",
       "      <th>1331</th>\n",
       "      <td>13898_IR900140040000710122488061_554900_محمد ح...</td>\n",
       "      <td>13901_IR830570034180013628468101_934200_فرهاد ...</td>\n",
       "    </tr>\n",
       "    <tr>\n",
       "      <th>1332</th>\n",
       "      <td>13901_IR830570034180013628468101_934200_فرهاد ...</td>\n",
       "      <td>13902_IR900560081777702583521001_775000_پیام ی...</td>\n",
       "    </tr>\n",
       "    <tr>\n",
       "      <th>1333</th>\n",
       "      <td>13902_IR900560081777702583521001_775000_پیام ی...</td>\n",
       "      <td>13909_IR270570027880013631455101_75000_امیر رض...</td>\n",
       "    </tr>\n",
       "    <tr>\n",
       "      <th>1334</th>\n",
       "      <td>13909_IR270570027880013631455101_75000_امیر رض...</td>\n",
       "      <td>13912_IR350120010000005792555291_3511300_مجید ...</td>\n",
       "    </tr>\n",
       "    <tr>\n",
       "      <th>1335</th>\n",
       "      <td>13912_IR350120010000005792555291_3511300_مجید ...</td>\n",
       "      <td>13921_IR270150000001350301327712_3026100_عبدال...</td>\n",
       "    </tr>\n",
       "    <tr>\n",
       "      <th>...</th>\n",
       "      <td>...</td>\n",
       "      <td>...</td>\n",
       "    </tr>\n",
       "    <tr>\n",
       "      <th>5479</th>\n",
       "      <td>49685_IR190150000003130001739096_498000_عاشور ...</td>\n",
       "      <td>49689_IR470150000003130004395228_48000_معرفت ا...</td>\n",
       "    </tr>\n",
       "    <tr>\n",
       "      <th>5480</th>\n",
       "      <td>49689_IR470150000003130004395228_48000_معرفت ا...</td>\n",
       "      <td>49697_IR230170000000218759052008_395000_مهدی م...</td>\n",
       "    </tr>\n",
       "    <tr>\n",
       "      <th>5481</th>\n",
       "      <td>49697_IR230170000000218759052008_395000_مهدی م...</td>\n",
       "      <td>49701_IR430190000000116903927007_165000_علی مرادی</td>\n",
       "    </tr>\n",
       "    <tr>\n",
       "      <th>5482</th>\n",
       "      <td>49701_IR430190000000116903927007_165000_علی مرادی</td>\n",
       "      <td>49705_IR280170000000355344471006_60000_میلاد آ...</td>\n",
       "    </tr>\n",
       "    <tr>\n",
       "      <th>5483</th>\n",
       "      <td>49705_IR280170000000355344471006_60000_میلاد آ...</td>\n",
       "      <td>13898_IR900140040000710122488061_554900_محمد ح...</td>\n",
       "    </tr>\n",
       "  </tbody>\n",
       "</table>\n",
       "<p>4153 rows × 2 columns</p>\n",
       "</div>"
      ],
      "text/plain": [
       "                                                   self  \\\n",
       "1331  13898_IR900140040000710122488061_554900_محمد ح...   \n",
       "1332  13901_IR830570034180013628468101_934200_فرهاد ...   \n",
       "1333  13902_IR900560081777702583521001_775000_پیام ی...   \n",
       "1334  13909_IR270570027880013631455101_75000_امیر رض...   \n",
       "1335  13912_IR350120010000005792555291_3511300_مجید ...   \n",
       "...                                                 ...   \n",
       "5479  49685_IR190150000003130001739096_498000_عاشور ...   \n",
       "5480  49689_IR470150000003130004395228_48000_معرفت ا...   \n",
       "5481  49697_IR230170000000218759052008_395000_مهدی م...   \n",
       "5482  49701_IR430190000000116903927007_165000_علی مرادی   \n",
       "5483  49705_IR280170000000355344471006_60000_میلاد آ...   \n",
       "\n",
       "                                                  other  \n",
       "1331  13901_IR830570034180013628468101_934200_فرهاد ...  \n",
       "1332  13902_IR900560081777702583521001_775000_پیام ی...  \n",
       "1333  13909_IR270570027880013631455101_75000_امیر رض...  \n",
       "1334  13912_IR350120010000005792555291_3511300_مجید ...  \n",
       "1335  13921_IR270150000001350301327712_3026100_عبدال...  \n",
       "...                                                 ...  \n",
       "5479  49689_IR470150000003130004395228_48000_معرفت ا...  \n",
       "5480  49697_IR230170000000218759052008_395000_مهدی م...  \n",
       "5481  49701_IR430190000000116903927007_165000_علی مرادی  \n",
       "5482  49705_IR280170000000355344471006_60000_میلاد آ...  \n",
       "5483  13898_IR900140040000710122488061_554900_محمد ح...  \n",
       "\n",
       "[4153 rows x 2 columns]"
      ]
     },
     "execution_count": 51,
     "metadata": {},
     "output_type": "execute_result"
    }
   ],
   "source": [
    "results_of_diff"
   ]
  },
  {
   "cell_type": "code",
   "execution_count": 52,
   "id": "03379e42",
   "metadata": {},
   "outputs": [],
   "source": [
    "results_of_diff.to_excel('E:Weekly Payments/Output_files/different payment and tehran.xlsx')"
   ]
  },
  {
   "cell_type": "code",
   "execution_count": 53,
   "id": "0fec95d2",
   "metadata": {},
   "outputs": [
    {
     "data": {
      "text/html": [
       "<div>\n",
       "<style scoped>\n",
       "    .dataframe tbody tr th:only-of-type {\n",
       "        vertical-align: middle;\n",
       "    }\n",
       "\n",
       "    .dataframe tbody tr th {\n",
       "        vertical-align: top;\n",
       "    }\n",
       "\n",
       "    .dataframe thead th {\n",
       "        text-align: right;\n",
       "    }\n",
       "</style>\n",
       "<table border=\"1\" class=\"dataframe\">\n",
       "  <thead>\n",
       "    <tr style=\"text-align: right;\">\n",
       "      <th></th>\n",
       "      <th>biker id</th>\n",
       "      <th>sheba number</th>\n",
       "      <th>total payable</th>\n",
       "      <th>name_family</th>\n",
       "      <th>express trips</th>\n",
       "      <th>concated</th>\n",
       "    </tr>\n",
       "  </thead>\n",
       "  <tbody>\n",
       "    <tr>\n",
       "      <th>0</th>\n",
       "      <td>16</td>\n",
       "      <td>IR350170000000302202936005</td>\n",
       "      <td>755500</td>\n",
       "      <td>مرتضی  بخشی</td>\n",
       "      <td>53</td>\n",
       "      <td>16_IR350170000000302202936005_755500_مرتضی  بخشی</td>\n",
       "    </tr>\n",
       "    <tr>\n",
       "      <th>1</th>\n",
       "      <td>277</td>\n",
       "      <td>IR360150000000817302320910</td>\n",
       "      <td>4050400</td>\n",
       "      <td>مصطفی  خفاجه نیا</td>\n",
       "      <td>312</td>\n",
       "      <td>277_IR360150000000817302320910_4050400_مصطفی  ...</td>\n",
       "    </tr>\n",
       "    <tr>\n",
       "      <th>2</th>\n",
       "      <td>289</td>\n",
       "      <td>IR750600380970011115506001</td>\n",
       "      <td>3598000</td>\n",
       "      <td>رضا  پروین</td>\n",
       "      <td>255</td>\n",
       "      <td>289_IR750600380970011115506001_3598000_رضا  پر...</td>\n",
       "    </tr>\n",
       "    <tr>\n",
       "      <th>3</th>\n",
       "      <td>303</td>\n",
       "      <td>IR190170000000212611964006</td>\n",
       "      <td>2358000</td>\n",
       "      <td>محمد ازاد</td>\n",
       "      <td>194</td>\n",
       "      <td>303_IR190170000000212611964006_2358000_محمد ازاد</td>\n",
       "    </tr>\n",
       "    <tr>\n",
       "      <th>4</th>\n",
       "      <td>307</td>\n",
       "      <td>IR470540103282000099657001</td>\n",
       "      <td>908500</td>\n",
       "      <td>بهروز مومنی ثانی رشخوار</td>\n",
       "      <td>67</td>\n",
       "      <td>307_IR470540103282000099657001_908500_بهروز مو...</td>\n",
       "    </tr>\n",
       "    <tr>\n",
       "      <th>...</th>\n",
       "      <td>...</td>\n",
       "      <td>...</td>\n",
       "      <td>...</td>\n",
       "      <td>...</td>\n",
       "      <td>...</td>\n",
       "      <td>...</td>\n",
       "    </tr>\n",
       "    <tr>\n",
       "      <th>5479</th>\n",
       "      <td>49689</td>\n",
       "      <td>IR470150000003130004395228</td>\n",
       "      <td>48000</td>\n",
       "      <td>معرفت احمدی</td>\n",
       "      <td>3</td>\n",
       "      <td>49689_IR470150000003130004395228_48000_معرفت ا...</td>\n",
       "    </tr>\n",
       "    <tr>\n",
       "      <th>5480</th>\n",
       "      <td>49697</td>\n",
       "      <td>IR230170000000218759052008</td>\n",
       "      <td>395000</td>\n",
       "      <td>مهدی میرزایی</td>\n",
       "      <td>31</td>\n",
       "      <td>49697_IR230170000000218759052008_395000_مهدی م...</td>\n",
       "    </tr>\n",
       "    <tr>\n",
       "      <th>5481</th>\n",
       "      <td>49701</td>\n",
       "      <td>IR430190000000116903927007</td>\n",
       "      <td>165000</td>\n",
       "      <td>علی مرادی</td>\n",
       "      <td>12</td>\n",
       "      <td>49701_IR430190000000116903927007_165000_علی مرادی</td>\n",
       "    </tr>\n",
       "    <tr>\n",
       "      <th>5482</th>\n",
       "      <td>49705</td>\n",
       "      <td>IR280170000000355344471006</td>\n",
       "      <td>60000</td>\n",
       "      <td>میلاد آدینه وند</td>\n",
       "      <td>3</td>\n",
       "      <td>49705_IR280170000000355344471006_60000_میلاد آ...</td>\n",
       "    </tr>\n",
       "    <tr>\n",
       "      <th>5483</th>\n",
       "      <td>13898</td>\n",
       "      <td>IR900140040000710122488061</td>\n",
       "      <td>554900</td>\n",
       "      <td>محمد حیدری</td>\n",
       "      <td>40</td>\n",
       "      <td>13898_IR900140040000710122488061_554900_محمد ح...</td>\n",
       "    </tr>\n",
       "  </tbody>\n",
       "</table>\n",
       "<p>5484 rows × 6 columns</p>\n",
       "</div>"
      ],
      "text/plain": [
       "      biker id                sheba number  total payable  \\\n",
       "0           16  IR350170000000302202936005         755500   \n",
       "1          277  IR360150000000817302320910        4050400   \n",
       "2          289  IR750600380970011115506001        3598000   \n",
       "3          303  IR190170000000212611964006        2358000   \n",
       "4          307  IR470540103282000099657001         908500   \n",
       "...        ...                         ...            ...   \n",
       "5479     49689  IR470150000003130004395228          48000   \n",
       "5480     49697  IR230170000000218759052008         395000   \n",
       "5481     49701  IR430190000000116903927007         165000   \n",
       "5482     49705  IR280170000000355344471006          60000   \n",
       "5483     13898  IR900140040000710122488061         554900   \n",
       "\n",
       "                  name_family  express trips  \\\n",
       "0                مرتضی  بخشی              53   \n",
       "1            مصطفی  خفاجه نیا            312   \n",
       "2                 رضا  پروین             255   \n",
       "3                   محمد ازاد            194   \n",
       "4     بهروز مومنی ثانی رشخوار             67   \n",
       "...                       ...            ...   \n",
       "5479              معرفت احمدی              3   \n",
       "5480             مهدی میرزایی             31   \n",
       "5481                علی مرادی             12   \n",
       "5482          میلاد آدینه وند              3   \n",
       "5483               محمد حیدری             40   \n",
       "\n",
       "                                               concated  \n",
       "0     16_IR350170000000302202936005_755500_مرتضی  بخشی   \n",
       "1     277_IR360150000000817302320910_4050400_مصطفی  ...  \n",
       "2     289_IR750600380970011115506001_3598000_رضا  پر...  \n",
       "3      303_IR190170000000212611964006_2358000_محمد ازاد  \n",
       "4     307_IR470540103282000099657001_908500_بهروز مو...  \n",
       "...                                                 ...  \n",
       "5479  49689_IR470150000003130004395228_48000_معرفت ا...  \n",
       "5480  49697_IR230170000000218759052008_395000_مهدی م...  \n",
       "5481  49701_IR430190000000116903927007_165000_علی مرادی  \n",
       "5482  49705_IR280170000000355344471006_60000_میلاد آ...  \n",
       "5483  13898_IR900140040000710122488061_554900_محمد ح...  \n",
       "\n",
       "[5484 rows x 6 columns]"
      ]
     },
     "execution_count": 53,
     "metadata": {},
     "output_type": "execute_result"
    }
   ],
   "source": [
    "payment_comp_data"
   ]
  },
  {
   "cell_type": "markdown",
   "id": "27a6e2eb",
   "metadata": {},
   "source": [
    "## 2. Database checking"
   ]
  },
  {
   "cell_type": "code",
   "execution_count": 13,
   "id": "715af285",
   "metadata": {},
   "outputs": [],
   "source": [
    "import pyodbc"
   ]
  },
  {
   "cell_type": "code",
   "execution_count": 14,
   "id": "fed9adc8",
   "metadata": {},
   "outputs": [],
   "source": [
    "def connection():\n",
    "    server = '79.175.132.125,1410'\n",
    "    database = 'express_db'\n",
    "    username = 'ExpressAnalyst'\n",
    "    password = '^cVGXN6q[nY#[-GE'\n",
    "    Driver = 'SQL Server'\n",
    "    cnxn = pyodbc.connect(\n",
    "            'DRIVER={SQL Server};SERVER=' + server + ';DATABASE=' + database + ';UID=' + username + ';PWD=' + password)\n",
    "    cursor = cnxn.cursor()\n",
    "    return cursor"
   ]
  },
  {
   "cell_type": "code",
   "execution_count": 15,
   "id": "d0ba9743",
   "metadata": {},
   "outputs": [],
   "source": [
    "query_1=\"\"\"SELECT user_id,\n",
    "       count(distinct id) as tedad\n",
    "from  express_db..trip\n",
    "where trip_status like '%Delivered%'\n",
    "  and created_at >= '2022-04-09'\n",
    "  and created_at < '2022-04-16'\n",
    "  and user_id <> 1\n",
    "  -- and t.city_id = 1\n",
    "  \n",
    "group by user_id\"\"\""
   ]
  },
  {
   "cell_type": "code",
   "execution_count": 16,
   "id": "92f2f3a3",
   "metadata": {
    "scrolled": true
   },
   "outputs": [],
   "source": [
    "cursor=connection()\n"
   ]
  },
  {
   "cell_type": "code",
   "execution_count": 17,
   "id": "2f34d6e6",
   "metadata": {},
   "outputs": [
    {
     "data": {
      "text/plain": [
       "<pyodbc.Cursor at 0x145c3adb3b0>"
      ]
     },
     "execution_count": 17,
     "metadata": {},
     "output_type": "execute_result"
    }
   ],
   "source": [
    "cursor.execute(query_1)"
   ]
  },
  {
   "cell_type": "markdown",
   "id": "03620ced",
   "metadata": {},
   "source": [
    "### 2.1 retrieve bikers trips from database"
   ]
  },
  {
   "cell_type": "code",
   "execution_count": 18,
   "id": "d5951e13",
   "metadata": {},
   "outputs": [],
   "source": [
    "online_data=cursor.fetchall()"
   ]
  },
  {
   "cell_type": "code",
   "execution_count": 19,
   "id": "1bae9b9e",
   "metadata": {},
   "outputs": [
    {
     "data": {
      "text/plain": [
       "5549"
      ]
     },
     "execution_count": 19,
     "metadata": {},
     "output_type": "execute_result"
    }
   ],
   "source": [
    "online_list=[list(biker) for biker in online_data]\n",
    "len(online_list)"
   ]
  },
  {
   "cell_type": "code",
   "execution_count": 20,
   "id": "8f8aae96",
   "metadata": {},
   "outputs": [],
   "source": [
    "online_df=pd.DataFrame(online_list,columns=['biker id','db_trips'])"
   ]
  },
  {
   "cell_type": "code",
   "execution_count": 21,
   "id": "72af96ed",
   "metadata": {},
   "outputs": [],
   "source": [
    "online_df.to_csv('E:/Weekly Payments/Output_files/database_data.csv')"
   ]
  },
  {
   "cell_type": "code",
   "execution_count": 22,
   "id": "bd42290b",
   "metadata": {},
   "outputs": [],
   "source": [
    "# online_df=pd.read_csv('E:/Weekly Payments/Output_files/database_data.csv')\n",
    "# online_df.drop(columns=['Unnamed: 0'], inplace=True)"
   ]
  },
  {
   "cell_type": "code",
   "execution_count": null,
   "id": "58e70c24",
   "metadata": {},
   "outputs": [],
   "source": []
  },
  {
   "cell_type": "code",
   "execution_count": 23,
   "id": "98d36d68",
   "metadata": {},
   "outputs": [
    {
     "data": {
      "text/html": [
       "<div>\n",
       "<style scoped>\n",
       "    .dataframe tbody tr th:only-of-type {\n",
       "        vertical-align: middle;\n",
       "    }\n",
       "\n",
       "    .dataframe tbody tr th {\n",
       "        vertical-align: top;\n",
       "    }\n",
       "\n",
       "    .dataframe thead th {\n",
       "        text-align: right;\n",
       "    }\n",
       "</style>\n",
       "<table border=\"1\" class=\"dataframe\">\n",
       "  <thead>\n",
       "    <tr style=\"text-align: right;\">\n",
       "      <th></th>\n",
       "      <th>biker id</th>\n",
       "      <th>db_trips</th>\n",
       "    </tr>\n",
       "  </thead>\n",
       "  <tbody>\n",
       "    <tr>\n",
       "      <th>0</th>\n",
       "      <td>37470</td>\n",
       "      <td>65</td>\n",
       "    </tr>\n",
       "    <tr>\n",
       "      <th>1</th>\n",
       "      <td>37138</td>\n",
       "      <td>138</td>\n",
       "    </tr>\n",
       "    <tr>\n",
       "      <th>2</th>\n",
       "      <td>18068</td>\n",
       "      <td>182</td>\n",
       "    </tr>\n",
       "    <tr>\n",
       "      <th>3</th>\n",
       "      <td>24904</td>\n",
       "      <td>76</td>\n",
       "    </tr>\n",
       "    <tr>\n",
       "      <th>4</th>\n",
       "      <td>28957</td>\n",
       "      <td>325</td>\n",
       "    </tr>\n",
       "    <tr>\n",
       "      <th>...</th>\n",
       "      <td>...</td>\n",
       "      <td>...</td>\n",
       "    </tr>\n",
       "    <tr>\n",
       "      <th>5544</th>\n",
       "      <td>44505</td>\n",
       "      <td>15</td>\n",
       "    </tr>\n",
       "    <tr>\n",
       "      <th>5545</th>\n",
       "      <td>44605</td>\n",
       "      <td>104</td>\n",
       "    </tr>\n",
       "    <tr>\n",
       "      <th>5546</th>\n",
       "      <td>29998</td>\n",
       "      <td>46</td>\n",
       "    </tr>\n",
       "    <tr>\n",
       "      <th>5547</th>\n",
       "      <td>2756</td>\n",
       "      <td>39</td>\n",
       "    </tr>\n",
       "    <tr>\n",
       "      <th>5548</th>\n",
       "      <td>933</td>\n",
       "      <td>73</td>\n",
       "    </tr>\n",
       "  </tbody>\n",
       "</table>\n",
       "<p>5549 rows × 2 columns</p>\n",
       "</div>"
      ],
      "text/plain": [
       "      biker id  db_trips\n",
       "0        37470        65\n",
       "1        37138       138\n",
       "2        18068       182\n",
       "3        24904        76\n",
       "4        28957       325\n",
       "...        ...       ...\n",
       "5544     44505        15\n",
       "5545     44605       104\n",
       "5546     29998        46\n",
       "5547      2756        39\n",
       "5548       933        73\n",
       "\n",
       "[5549 rows x 2 columns]"
      ]
     },
     "execution_count": 23,
     "metadata": {},
     "output_type": "execute_result"
    }
   ],
   "source": [
    "online_df"
   ]
  },
  {
   "cell_type": "markdown",
   "id": "12efde5a",
   "metadata": {},
   "source": [
    "### 2.2 compare number of trips from concanetated data and data base data"
   ]
  },
  {
   "cell_type": "code",
   "execution_count": 24,
   "id": "0cc27808",
   "metadata": {},
   "outputs": [],
   "source": [
    "Payments=data['payment']"
   ]
  },
  {
   "cell_type": "code",
   "execution_count": 25,
   "id": "deb659fe",
   "metadata": {
    "scrolled": false
   },
   "outputs": [
    {
     "data": {
      "text/plain": [
       "5484"
      ]
     },
     "execution_count": 25,
     "metadata": {},
     "output_type": "execute_result"
    }
   ],
   "source": [
    "len(Payments)"
   ]
  },
  {
   "cell_type": "code",
   "execution_count": 26,
   "id": "7545dd89",
   "metadata": {},
   "outputs": [],
   "source": [
    "#Payments=Payments[Payments['Express Trips']>0]"
   ]
  },
  {
   "cell_type": "code",
   "execution_count": 27,
   "id": "80c98d8b",
   "metadata": {},
   "outputs": [],
   "source": [
    "Payments=Payments[['biker id', 'express trips']]"
   ]
  },
  {
   "cell_type": "code",
   "execution_count": 30,
   "id": "77960abb",
   "metadata": {},
   "outputs": [],
   "source": [
    "## حذف بایکر ها با شبای مشکل دار و مقدار پرداختی منفی از دیتای دیتابیس\n",
    "online_df=online_df[~online_df['biker id'].isin(list(data['no sheba']['biker id']))]\n",
    "online_df=online_df[~online_df['biker id'].isin(list(negative_payable['biker id']))]"
   ]
  },
  {
   "cell_type": "code",
   "execution_count": 31,
   "id": "8077acb6",
   "metadata": {},
   "outputs": [
    {
     "data": {
      "text/html": [
       "<div>\n",
       "<style scoped>\n",
       "    .dataframe tbody tr th:only-of-type {\n",
       "        vertical-align: middle;\n",
       "    }\n",
       "\n",
       "    .dataframe tbody tr th {\n",
       "        vertical-align: top;\n",
       "    }\n",
       "\n",
       "    .dataframe thead th {\n",
       "        text-align: right;\n",
       "    }\n",
       "</style>\n",
       "<table border=\"1\" class=\"dataframe\">\n",
       "  <thead>\n",
       "    <tr style=\"text-align: right;\">\n",
       "      <th></th>\n",
       "      <th>biker id</th>\n",
       "      <th>db_trips</th>\n",
       "    </tr>\n",
       "  </thead>\n",
       "  <tbody>\n",
       "    <tr>\n",
       "      <th>0</th>\n",
       "      <td>37470</td>\n",
       "      <td>65</td>\n",
       "    </tr>\n",
       "    <tr>\n",
       "      <th>1</th>\n",
       "      <td>37138</td>\n",
       "      <td>138</td>\n",
       "    </tr>\n",
       "    <tr>\n",
       "      <th>2</th>\n",
       "      <td>18068</td>\n",
       "      <td>182</td>\n",
       "    </tr>\n",
       "    <tr>\n",
       "      <th>3</th>\n",
       "      <td>24904</td>\n",
       "      <td>76</td>\n",
       "    </tr>\n",
       "    <tr>\n",
       "      <th>4</th>\n",
       "      <td>28957</td>\n",
       "      <td>325</td>\n",
       "    </tr>\n",
       "    <tr>\n",
       "      <th>...</th>\n",
       "      <td>...</td>\n",
       "      <td>...</td>\n",
       "    </tr>\n",
       "    <tr>\n",
       "      <th>5544</th>\n",
       "      <td>44505</td>\n",
       "      <td>15</td>\n",
       "    </tr>\n",
       "    <tr>\n",
       "      <th>5545</th>\n",
       "      <td>44605</td>\n",
       "      <td>104</td>\n",
       "    </tr>\n",
       "    <tr>\n",
       "      <th>5546</th>\n",
       "      <td>29998</td>\n",
       "      <td>46</td>\n",
       "    </tr>\n",
       "    <tr>\n",
       "      <th>5547</th>\n",
       "      <td>2756</td>\n",
       "      <td>39</td>\n",
       "    </tr>\n",
       "    <tr>\n",
       "      <th>5548</th>\n",
       "      <td>933</td>\n",
       "      <td>73</td>\n",
       "    </tr>\n",
       "  </tbody>\n",
       "</table>\n",
       "<p>5475 rows × 2 columns</p>\n",
       "</div>"
      ],
      "text/plain": [
       "      biker id  db_trips\n",
       "0        37470        65\n",
       "1        37138       138\n",
       "2        18068       182\n",
       "3        24904        76\n",
       "4        28957       325\n",
       "...        ...       ...\n",
       "5544     44505        15\n",
       "5545     44605       104\n",
       "5546     29998        46\n",
       "5547      2756        39\n",
       "5548       933        73\n",
       "\n",
       "[5475 rows x 2 columns]"
      ]
     },
     "execution_count": 31,
     "metadata": {},
     "output_type": "execute_result"
    }
   ],
   "source": [
    "online_df"
   ]
  },
  {
   "cell_type": "code",
   "execution_count": 74,
   "id": "cae73d4c",
   "metadata": {},
   "outputs": [],
   "source": [
    "# left join on Biker Id between concanetated_date\n",
    "# extract bikers who are in the payment list and don't have rides\n",
    "#bikers_no_ride=pd.merge(c_data,online_df,on='Biker Id',how='left')"
   ]
  },
  {
   "cell_type": "code",
   "execution_count": 75,
   "id": "260598bf",
   "metadata": {},
   "outputs": [],
   "source": [
    "# are not in the database but have trips in the file\n",
    "bikers_no_payment=pd.merge(online_df,Payments,on='biker id',how='left')"
   ]
  },
  {
   "cell_type": "code",
   "execution_count": 76,
   "id": "b910c5c2",
   "metadata": {
    "scrolled": true
   },
   "outputs": [
    {
     "data": {
      "text/html": [
       "<div>\n",
       "<style scoped>\n",
       "    .dataframe tbody tr th:only-of-type {\n",
       "        vertical-align: middle;\n",
       "    }\n",
       "\n",
       "    .dataframe tbody tr th {\n",
       "        vertical-align: top;\n",
       "    }\n",
       "\n",
       "    .dataframe thead th {\n",
       "        text-align: right;\n",
       "    }\n",
       "</style>\n",
       "<table border=\"1\" class=\"dataframe\">\n",
       "  <thead>\n",
       "    <tr style=\"text-align: right;\">\n",
       "      <th></th>\n",
       "      <th>biker id</th>\n",
       "      <th>db_trips</th>\n",
       "      <th>express trips</th>\n",
       "    </tr>\n",
       "  </thead>\n",
       "  <tbody>\n",
       "    <tr>\n",
       "      <th>0</th>\n",
       "      <td>40458</td>\n",
       "      <td>253</td>\n",
       "      <td>253.0</td>\n",
       "    </tr>\n",
       "    <tr>\n",
       "      <th>1</th>\n",
       "      <td>32870</td>\n",
       "      <td>201</td>\n",
       "      <td>202.0</td>\n",
       "    </tr>\n",
       "    <tr>\n",
       "      <th>2</th>\n",
       "      <td>16176</td>\n",
       "      <td>64</td>\n",
       "      <td>66.0</td>\n",
       "    </tr>\n",
       "    <tr>\n",
       "      <th>3</th>\n",
       "      <td>49349</td>\n",
       "      <td>5</td>\n",
       "      <td>5.0</td>\n",
       "    </tr>\n",
       "    <tr>\n",
       "      <th>4</th>\n",
       "      <td>19734</td>\n",
       "      <td>184</td>\n",
       "      <td>184.0</td>\n",
       "    </tr>\n",
       "    <tr>\n",
       "      <th>...</th>\n",
       "      <td>...</td>\n",
       "      <td>...</td>\n",
       "      <td>...</td>\n",
       "    </tr>\n",
       "    <tr>\n",
       "      <th>5470</th>\n",
       "      <td>2476</td>\n",
       "      <td>233</td>\n",
       "      <td>234.0</td>\n",
       "    </tr>\n",
       "    <tr>\n",
       "      <th>5471</th>\n",
       "      <td>20031</td>\n",
       "      <td>56</td>\n",
       "      <td>56.0</td>\n",
       "    </tr>\n",
       "    <tr>\n",
       "      <th>5472</th>\n",
       "      <td>42845</td>\n",
       "      <td>3</td>\n",
       "      <td>3.0</td>\n",
       "    </tr>\n",
       "    <tr>\n",
       "      <th>5473</th>\n",
       "      <td>44113</td>\n",
       "      <td>186</td>\n",
       "      <td>185.0</td>\n",
       "    </tr>\n",
       "    <tr>\n",
       "      <th>5474</th>\n",
       "      <td>2115</td>\n",
       "      <td>91</td>\n",
       "      <td>92.0</td>\n",
       "    </tr>\n",
       "  </tbody>\n",
       "</table>\n",
       "<p>5475 rows × 3 columns</p>\n",
       "</div>"
      ],
      "text/plain": [
       "      biker id  db_trips  express trips\n",
       "0        40458       253          253.0\n",
       "1        32870       201          202.0\n",
       "2        16176        64           66.0\n",
       "3        49349         5            5.0\n",
       "4        19734       184          184.0\n",
       "...        ...       ...            ...\n",
       "5470      2476       233          234.0\n",
       "5471     20031        56           56.0\n",
       "5472     42845         3            3.0\n",
       "5473     44113       186          185.0\n",
       "5474      2115        91           92.0\n",
       "\n",
       "[5475 rows x 3 columns]"
      ]
     },
     "execution_count": 76,
     "metadata": {},
     "output_type": "execute_result"
    }
   ],
   "source": [
    "bikers_no_payment"
   ]
  },
  {
   "cell_type": "code",
   "execution_count": 77,
   "id": "b28e0d87",
   "metadata": {},
   "outputs": [],
   "source": [
    "bikers_no_payment.to_csv('E:Weekly Payments/bikers.csv')"
   ]
  },
  {
   "cell_type": "code",
   "execution_count": 78,
   "id": "95be875a",
   "metadata": {
    "scrolled": true
   },
   "outputs": [
    {
     "data": {
      "text/plain": [
       "1"
      ]
     },
     "execution_count": 78,
     "metadata": {},
     "output_type": "execute_result"
    }
   ],
   "source": [
    "bikers_no_payment['express trips'].isnull().sum()  # bikers with trips in database and not in the file"
   ]
  },
  {
   "cell_type": "code",
   "execution_count": 79,
   "id": "ae61756a",
   "metadata": {},
   "outputs": [
    {
     "data": {
      "text/plain": [
       "0"
      ]
     },
     "execution_count": 79,
     "metadata": {},
     "output_type": "execute_result"
    }
   ],
   "source": [
    "bikers_no_payment['db_trips'].isnull().sum()"
   ]
  },
  {
   "cell_type": "code",
   "execution_count": 80,
   "id": "948ab213",
   "metadata": {},
   "outputs": [
    {
     "data": {
      "text/plain": [
       "5475"
      ]
     },
     "execution_count": 80,
     "metadata": {},
     "output_type": "execute_result"
    }
   ],
   "source": [
    "len(bikers_no_payment)"
   ]
  },
  {
   "cell_type": "code",
   "execution_count": 81,
   "id": "5b0d17dd",
   "metadata": {},
   "outputs": [],
   "source": [
    "bikers_no_payment_2=pd.merge(Payments,online_df,on='biker id',how='left')"
   ]
  },
  {
   "cell_type": "code",
   "execution_count": 82,
   "id": "82059008",
   "metadata": {},
   "outputs": [
    {
     "data": {
      "text/plain": [
       "0"
      ]
     },
     "execution_count": 82,
     "metadata": {},
     "output_type": "execute_result"
    }
   ],
   "source": [
    "bikers_no_payment_2['express trips'].isnull().sum()"
   ]
  },
  {
   "cell_type": "code",
   "execution_count": 83,
   "id": "144cc3dd",
   "metadata": {},
   "outputs": [
    {
     "data": {
      "text/html": [
       "<div>\n",
       "<style scoped>\n",
       "    .dataframe tbody tr th:only-of-type {\n",
       "        vertical-align: middle;\n",
       "    }\n",
       "\n",
       "    .dataframe tbody tr th {\n",
       "        vertical-align: top;\n",
       "    }\n",
       "\n",
       "    .dataframe thead th {\n",
       "        text-align: right;\n",
       "    }\n",
       "</style>\n",
       "<table border=\"1\" class=\"dataframe\">\n",
       "  <thead>\n",
       "    <tr style=\"text-align: right;\">\n",
       "      <th></th>\n",
       "      <th>biker id</th>\n",
       "      <th>express trips</th>\n",
       "      <th>db_trips</th>\n",
       "    </tr>\n",
       "  </thead>\n",
       "  <tbody>\n",
       "    <tr>\n",
       "      <th>865</th>\n",
       "      <td>7045</td>\n",
       "      <td>1</td>\n",
       "      <td>NaN</td>\n",
       "    </tr>\n",
       "    <tr>\n",
       "      <th>869</th>\n",
       "      <td>7066</td>\n",
       "      <td>1</td>\n",
       "      <td>NaN</td>\n",
       "    </tr>\n",
       "    <tr>\n",
       "      <th>1460</th>\n",
       "      <td>14376</td>\n",
       "      <td>1</td>\n",
       "      <td>NaN</td>\n",
       "    </tr>\n",
       "    <tr>\n",
       "      <th>2063</th>\n",
       "      <td>17613</td>\n",
       "      <td>1</td>\n",
       "      <td>NaN</td>\n",
       "    </tr>\n",
       "    <tr>\n",
       "      <th>2160</th>\n",
       "      <td>18021</td>\n",
       "      <td>0</td>\n",
       "      <td>NaN</td>\n",
       "    </tr>\n",
       "    <tr>\n",
       "      <th>2343</th>\n",
       "      <td>19782</td>\n",
       "      <td>1</td>\n",
       "      <td>NaN</td>\n",
       "    </tr>\n",
       "    <tr>\n",
       "      <th>2577</th>\n",
       "      <td>20641</td>\n",
       "      <td>2</td>\n",
       "      <td>NaN</td>\n",
       "    </tr>\n",
       "    <tr>\n",
       "      <th>2757</th>\n",
       "      <td>21148</td>\n",
       "      <td>1</td>\n",
       "      <td>NaN</td>\n",
       "    </tr>\n",
       "    <tr>\n",
       "      <th>3570</th>\n",
       "      <td>29617</td>\n",
       "      <td>1</td>\n",
       "      <td>NaN</td>\n",
       "    </tr>\n",
       "    <tr>\n",
       "      <th>5033</th>\n",
       "      <td>45145</td>\n",
       "      <td>1</td>\n",
       "      <td>NaN</td>\n",
       "    </tr>\n",
       "  </tbody>\n",
       "</table>\n",
       "</div>"
      ],
      "text/plain": [
       "      biker id  express trips  db_trips\n",
       "865       7045              1       NaN\n",
       "869       7066              1       NaN\n",
       "1460     14376              1       NaN\n",
       "2063     17613              1       NaN\n",
       "2160     18021              0       NaN\n",
       "2343     19782              1       NaN\n",
       "2577     20641              2       NaN\n",
       "2757     21148              1       NaN\n",
       "3570     29617              1       NaN\n",
       "5033     45145              1       NaN"
      ]
     },
     "execution_count": 83,
     "metadata": {},
     "output_type": "execute_result"
    }
   ],
   "source": [
    "bikers_no_payment_2[bikers_no_payment_2['db_trips'].isnull()]"
   ]
  },
  {
   "cell_type": "markdown",
   "id": "932967f7",
   "metadata": {},
   "source": [
    "## بایکر های این قسمت در دیتابیس تریپ دارند ولی در فایل نیستند"
   ]
  },
  {
   "cell_type": "code",
   "execution_count": 84,
   "id": "18b416ee",
   "metadata": {
    "scrolled": false
   },
   "outputs": [
    {
     "data": {
      "text/html": [
       "<div>\n",
       "<style scoped>\n",
       "    .dataframe tbody tr th:only-of-type {\n",
       "        vertical-align: middle;\n",
       "    }\n",
       "\n",
       "    .dataframe tbody tr th {\n",
       "        vertical-align: top;\n",
       "    }\n",
       "\n",
       "    .dataframe thead th {\n",
       "        text-align: right;\n",
       "    }\n",
       "</style>\n",
       "<table border=\"1\" class=\"dataframe\">\n",
       "  <thead>\n",
       "    <tr style=\"text-align: right;\">\n",
       "      <th></th>\n",
       "      <th>biker id</th>\n",
       "      <th>db_trips</th>\n",
       "      <th>express trips</th>\n",
       "    </tr>\n",
       "  </thead>\n",
       "  <tbody>\n",
       "    <tr>\n",
       "      <th>1863</th>\n",
       "      <td>20008</td>\n",
       "      <td>10</td>\n",
       "      <td>NaN</td>\n",
       "    </tr>\n",
       "  </tbody>\n",
       "</table>\n",
       "</div>"
      ],
      "text/plain": [
       "      biker id  db_trips  express trips\n",
       "1863     20008        10            NaN"
      ]
     },
     "execution_count": 84,
     "metadata": {},
     "output_type": "execute_result"
    }
   ],
   "source": [
    "bikers_no_payment[bikers_no_payment['express trips'].isnull()]"
   ]
  },
  {
   "cell_type": "markdown",
   "id": "c4d071fd",
   "metadata": {},
   "source": [
    "### 2.3 calculate the difference between Db trips and payment trips"
   ]
  },
  {
   "cell_type": "code",
   "execution_count": 85,
   "id": "cae20fc7",
   "metadata": {},
   "outputs": [],
   "source": [
    "bikers_no_payment.fillna(0, inplace=True)"
   ]
  },
  {
   "cell_type": "code",
   "execution_count": 86,
   "id": "c7b0fdf0",
   "metadata": {},
   "outputs": [],
   "source": [
    "bikers_no_payment['diff']=abs(bikers_no_payment['express trips']-bikers_no_payment['db_trips'])"
   ]
  },
  {
   "cell_type": "code",
   "execution_count": 87,
   "id": "ca8425c1",
   "metadata": {},
   "outputs": [],
   "source": [
    "bikers_no_payment=bikers_no_payment[~bikers_no_payment['biker id'].isin(list(data['no sheba']['biker id']))]\n",
    "bikers_no_payment=bikers_no_payment[~bikers_no_payment['biker id'].isin(list(negative_payable['biker id']))]"
   ]
  },
  {
   "cell_type": "code",
   "execution_count": 88,
   "id": "41804a9d",
   "metadata": {
    "scrolled": false
   },
   "outputs": [
    {
     "data": {
      "text/html": [
       "<div>\n",
       "<style scoped>\n",
       "    .dataframe tbody tr th:only-of-type {\n",
       "        vertical-align: middle;\n",
       "    }\n",
       "\n",
       "    .dataframe tbody tr th {\n",
       "        vertical-align: top;\n",
       "    }\n",
       "\n",
       "    .dataframe thead th {\n",
       "        text-align: right;\n",
       "    }\n",
       "</style>\n",
       "<table border=\"1\" class=\"dataframe\">\n",
       "  <thead>\n",
       "    <tr style=\"text-align: right;\">\n",
       "      <th></th>\n",
       "      <th>biker id</th>\n",
       "      <th>db_trips</th>\n",
       "      <th>express trips</th>\n",
       "      <th>diff</th>\n",
       "    </tr>\n",
       "  </thead>\n",
       "  <tbody>\n",
       "    <tr>\n",
       "      <th>5465</th>\n",
       "      <td>16044</td>\n",
       "      <td>373</td>\n",
       "      <td>378.0</td>\n",
       "      <td>5.0</td>\n",
       "    </tr>\n",
       "    <tr>\n",
       "      <th>1863</th>\n",
       "      <td>20008</td>\n",
       "      <td>10</td>\n",
       "      <td>0.0</td>\n",
       "      <td>10.0</td>\n",
       "    </tr>\n",
       "    <tr>\n",
       "      <th>1459</th>\n",
       "      <td>20508</td>\n",
       "      <td>328</td>\n",
       "      <td>333.0</td>\n",
       "      <td>5.0</td>\n",
       "    </tr>\n",
       "    <tr>\n",
       "      <th>2295</th>\n",
       "      <td>20880</td>\n",
       "      <td>344</td>\n",
       "      <td>350.0</td>\n",
       "      <td>6.0</td>\n",
       "    </tr>\n",
       "    <tr>\n",
       "      <th>4495</th>\n",
       "      <td>27466</td>\n",
       "      <td>265</td>\n",
       "      <td>270.0</td>\n",
       "      <td>5.0</td>\n",
       "    </tr>\n",
       "    <tr>\n",
       "      <th>4587</th>\n",
       "      <td>29153</td>\n",
       "      <td>264</td>\n",
       "      <td>269.0</td>\n",
       "      <td>5.0</td>\n",
       "    </tr>\n",
       "    <tr>\n",
       "      <th>5190</th>\n",
       "      <td>39613</td>\n",
       "      <td>100</td>\n",
       "      <td>106.0</td>\n",
       "      <td>6.0</td>\n",
       "    </tr>\n",
       "  </tbody>\n",
       "</table>\n",
       "</div>"
      ],
      "text/plain": [
       "      biker id  db_trips  express trips  diff\n",
       "5465     16044       373          378.0   5.0\n",
       "1863     20008        10            0.0  10.0\n",
       "1459     20508       328          333.0   5.0\n",
       "2295     20880       344          350.0   6.0\n",
       "4495     27466       265          270.0   5.0\n",
       "4587     29153       264          269.0   5.0\n",
       "5190     39613       100          106.0   6.0"
      ]
     },
     "execution_count": 88,
     "metadata": {},
     "output_type": "execute_result"
    }
   ],
   "source": [
    "bikers_no_payment[bikers_no_payment['diff']>4].sort_values(by=['biker id'])"
   ]
  },
  {
   "cell_type": "code",
   "execution_count": 89,
   "id": "00bdb07e",
   "metadata": {},
   "outputs": [],
   "source": [
    "bikers_no_payment[bikers_no_payment['diff']>4].sort_values(by=['biker id']).to_excel('E:\\Diffoutput.xlsx')"
   ]
  },
  {
   "cell_type": "code",
   "execution_count": 90,
   "id": "70f1626f",
   "metadata": {},
   "outputs": [
    {
     "data": {
      "text/plain": [
       "7"
      ]
     },
     "execution_count": 90,
     "metadata": {},
     "output_type": "execute_result"
    }
   ],
   "source": [
    "len(bikers_no_payment[bikers_no_payment['diff']>4])"
   ]
  },
  {
   "cell_type": "code",
   "execution_count": 91,
   "id": "2051e93c",
   "metadata": {},
   "outputs": [],
   "source": [
    "bikers_with_diff=bikers_no_payment[bikers_no_payment['diff']>4]['biker id'].to_list()"
   ]
  },
  {
   "cell_type": "code",
   "execution_count": 92,
   "id": "b85eed7e",
   "metadata": {},
   "outputs": [
    {
     "data": {
      "text/plain": [
       "[20508, 20008, 20880, 27466, 29153, 39613, 16044]"
      ]
     },
     "execution_count": 92,
     "metadata": {},
     "output_type": "execute_result"
    }
   ],
   "source": [
    "bikers_with_diff"
   ]
  },
  {
   "cell_type": "code",
   "execution_count": null,
   "id": "8eb28805",
   "metadata": {},
   "outputs": [],
   "source": []
  },
  {
   "cell_type": "markdown",
   "id": "4ebc2184",
   "metadata": {},
   "source": [
    "## Financial Checking"
   ]
  },
  {
   "cell_type": "code",
   "execution_count": 93,
   "id": "6148c957",
   "metadata": {},
   "outputs": [],
   "source": [
    "a = os.listdir('E:/Weekly Payments/tasvieh_file')"
   ]
  },
  {
   "cell_type": "code",
   "execution_count": 94,
   "id": "f4e6d14f",
   "metadata": {},
   "outputs": [],
   "source": [
    "d=pd.read_excel('E:/Weekly Payments/tasvieh_file/'+a[0],sheet_name=None,header=1)"
   ]
  },
  {
   "cell_type": "code",
   "execution_count": 95,
   "id": "37e63b4f",
   "metadata": {},
   "outputs": [],
   "source": [
    "tasvieh_data=d['pattern-1'].copy(deep=True)"
   ]
  },
  {
   "cell_type": "code",
   "execution_count": 96,
   "id": "3191e0c7",
   "metadata": {},
   "outputs": [
    {
     "data": {
      "text/plain": [
       "Index(['شماره سپرده ی مبدا', 'شماره مشتری', 'مبلغ', 'کد بانک مقصد',\n",
       "       'نام و نام خانوادگی ذینفع', 'شرح تراکنش', 'شبای مقصد', 'تاریخ ارسال',\n",
       "       'شناسه واریز(اختیاری)'],\n",
       "      dtype='object')"
      ]
     },
     "execution_count": 96,
     "metadata": {},
     "output_type": "execute_result"
    }
   ],
   "source": [
    "tasvieh_data.columns"
   ]
  },
  {
   "cell_type": "code",
   "execution_count": 97,
   "id": "4ed18a06",
   "metadata": {},
   "outputs": [
    {
     "data": {
      "text/html": [
       "<div>\n",
       "<style scoped>\n",
       "    .dataframe tbody tr th:only-of-type {\n",
       "        vertical-align: middle;\n",
       "    }\n",
       "\n",
       "    .dataframe tbody tr th {\n",
       "        vertical-align: top;\n",
       "    }\n",
       "\n",
       "    .dataframe thead th {\n",
       "        text-align: right;\n",
       "    }\n",
       "</style>\n",
       "<table border=\"1\" class=\"dataframe\">\n",
       "  <thead>\n",
       "    <tr style=\"text-align: right;\">\n",
       "      <th></th>\n",
       "      <th>شماره سپرده ی مبدا</th>\n",
       "      <th>شماره مشتری</th>\n",
       "      <th>مبلغ</th>\n",
       "      <th>کد بانک مقصد</th>\n",
       "      <th>نام و نام خانوادگی ذینفع</th>\n",
       "      <th>شرح تراکنش</th>\n",
       "      <th>شبای مقصد</th>\n",
       "      <th>تاریخ ارسال</th>\n",
       "      <th>شناسه واریز(اختیاری)</th>\n",
       "    </tr>\n",
       "  </thead>\n",
       "  <tbody>\n",
       "    <tr>\n",
       "      <th>0</th>\n",
       "      <td>NaN</td>\n",
       "      <td>NaN</td>\n",
       "      <td>6670000</td>\n",
       "      <td>17</td>\n",
       "      <td>مرتضی  بخشی</td>\n",
       "      <td>تسویه سفرهای اکسپرس اسنپ فود</td>\n",
       "      <td>IR350170000000302202936005</td>\n",
       "      <td>NaN</td>\n",
       "      <td>NaN</td>\n",
       "    </tr>\n",
       "    <tr>\n",
       "      <th>1</th>\n",
       "      <td>NaN</td>\n",
       "      <td>NaN</td>\n",
       "      <td>13135000</td>\n",
       "      <td>60</td>\n",
       "      <td>رضا  پروین</td>\n",
       "      <td>تسویه سفرهای اکسپرس اسنپ فود</td>\n",
       "      <td>IR750600380970011115506001</td>\n",
       "      <td>NaN</td>\n",
       "      <td>NaN</td>\n",
       "    </tr>\n",
       "    <tr>\n",
       "      <th>2</th>\n",
       "      <td>NaN</td>\n",
       "      <td>NaN</td>\n",
       "      <td>18890000</td>\n",
       "      <td>17</td>\n",
       "      <td>محمد ازاد</td>\n",
       "      <td>تسویه سفرهای اکسپرس اسنپ فود</td>\n",
       "      <td>IR190170000000212611964006</td>\n",
       "      <td>NaN</td>\n",
       "      <td>NaN</td>\n",
       "    </tr>\n",
       "    <tr>\n",
       "      <th>3</th>\n",
       "      <td>NaN</td>\n",
       "      <td>NaN</td>\n",
       "      <td>11485000</td>\n",
       "      <td>54</td>\n",
       "      <td>بهروز مومنی ثانی رشخوار</td>\n",
       "      <td>تسویه سفرهای اکسپرس اسنپ فود</td>\n",
       "      <td>IR470540103282000099657001</td>\n",
       "      <td>NaN</td>\n",
       "      <td>NaN</td>\n",
       "    </tr>\n",
       "    <tr>\n",
       "      <th>4</th>\n",
       "      <td>NaN</td>\n",
       "      <td>NaN</td>\n",
       "      <td>19770000</td>\n",
       "      <td>57</td>\n",
       "      <td>حامد فانی صابری</td>\n",
       "      <td>تسویه سفرهای اکسپرس اسنپ فود</td>\n",
       "      <td>IR260570029080012882866101</td>\n",
       "      <td>NaN</td>\n",
       "      <td>NaN</td>\n",
       "    </tr>\n",
       "  </tbody>\n",
       "</table>\n",
       "</div>"
      ],
      "text/plain": [
       "   شماره سپرده ی مبدا  شماره مشتری      مبلغ  کد بانک مقصد  \\\n",
       "0                 NaN          NaN   6670000            17   \n",
       "1                 NaN          NaN  13135000            60   \n",
       "2                 NaN          NaN  18890000            17   \n",
       "3                 NaN          NaN  11485000            54   \n",
       "4                 NaN          NaN  19770000            57   \n",
       "\n",
       "  نام و نام خانوادگی ذینفع                    شرح تراکنش  \\\n",
       "0             مرتضی  بخشی   تسویه سفرهای اکسپرس اسنپ فود   \n",
       "1              رضا  پروین   تسویه سفرهای اکسپرس اسنپ فود   \n",
       "2                محمد ازاد  تسویه سفرهای اکسپرس اسنپ فود   \n",
       "3  بهروز مومنی ثانی رشخوار  تسویه سفرهای اکسپرس اسنپ فود   \n",
       "4         حامد فانی صابری   تسویه سفرهای اکسپرس اسنپ فود   \n",
       "\n",
       "                    شبای مقصد  تاریخ ارسال  شناسه واریز(اختیاری)  \n",
       "0  IR350170000000302202936005          NaN                   NaN  \n",
       "1  IR750600380970011115506001          NaN                   NaN  \n",
       "2  IR190170000000212611964006          NaN                   NaN  \n",
       "3  IR470540103282000099657001          NaN                   NaN  \n",
       "4  IR260570029080012882866101          NaN                   NaN  "
      ]
     },
     "execution_count": 97,
     "metadata": {},
     "output_type": "execute_result"
    }
   ],
   "source": [
    "tasvieh_data.head()"
   ]
  },
  {
   "cell_type": "code",
   "execution_count": 98,
   "id": "23c5cbe0",
   "metadata": {},
   "outputs": [],
   "source": [
    "tasvieh_data.rename(columns={'مبلغ':'payable','نام و نام خانوادگی ذینفع':'name','شبای مقصد':'sheba number' }, inplace=True, errors='raise')"
   ]
  },
  {
   "cell_type": "code",
   "execution_count": 99,
   "id": "1b135597",
   "metadata": {},
   "outputs": [],
   "source": [
    "tasvieh_data.drop(columns=['شماره سپرده ی مبدا','شماره مشتری','کد بانک مقصد','شرح تراکنش','تاریخ ارسال','شناسه واریز(اختیاری)'], inplace=True, errors='raise')"
   ]
  },
  {
   "cell_type": "code",
   "execution_count": 100,
   "id": "53d6fe4f",
   "metadata": {},
   "outputs": [
    {
     "data": {
      "text/html": [
       "<div>\n",
       "<style scoped>\n",
       "    .dataframe tbody tr th:only-of-type {\n",
       "        vertical-align: middle;\n",
       "    }\n",
       "\n",
       "    .dataframe tbody tr th {\n",
       "        vertical-align: top;\n",
       "    }\n",
       "\n",
       "    .dataframe thead th {\n",
       "        text-align: right;\n",
       "    }\n",
       "</style>\n",
       "<table border=\"1\" class=\"dataframe\">\n",
       "  <thead>\n",
       "    <tr style=\"text-align: right;\">\n",
       "      <th></th>\n",
       "      <th>payable</th>\n",
       "      <th>name</th>\n",
       "      <th>sheba number</th>\n",
       "    </tr>\n",
       "  </thead>\n",
       "  <tbody>\n",
       "    <tr>\n",
       "      <th>0</th>\n",
       "      <td>6670000</td>\n",
       "      <td>مرتضی  بخشی</td>\n",
       "      <td>IR350170000000302202936005</td>\n",
       "    </tr>\n",
       "    <tr>\n",
       "      <th>1</th>\n",
       "      <td>13135000</td>\n",
       "      <td>رضا  پروین</td>\n",
       "      <td>IR750600380970011115506001</td>\n",
       "    </tr>\n",
       "    <tr>\n",
       "      <th>2</th>\n",
       "      <td>18890000</td>\n",
       "      <td>محمد ازاد</td>\n",
       "      <td>IR190170000000212611964006</td>\n",
       "    </tr>\n",
       "    <tr>\n",
       "      <th>3</th>\n",
       "      <td>11485000</td>\n",
       "      <td>بهروز مومنی ثانی رشخوار</td>\n",
       "      <td>IR470540103282000099657001</td>\n",
       "    </tr>\n",
       "    <tr>\n",
       "      <th>4</th>\n",
       "      <td>19770000</td>\n",
       "      <td>حامد فانی صابری</td>\n",
       "      <td>IR260570029080012882866101</td>\n",
       "    </tr>\n",
       "  </tbody>\n",
       "</table>\n",
       "</div>"
      ],
      "text/plain": [
       "    payable                     name                sheba number\n",
       "0   6670000             مرتضی  بخشی   IR350170000000302202936005\n",
       "1  13135000              رضا  پروین   IR750600380970011115506001\n",
       "2  18890000                محمد ازاد  IR190170000000212611964006\n",
       "3  11485000  بهروز مومنی ثانی رشخوار  IR470540103282000099657001\n",
       "4  19770000         حامد فانی صابری   IR260570029080012882866101"
      ]
     },
     "execution_count": 100,
     "metadata": {},
     "output_type": "execute_result"
    }
   ],
   "source": [
    "tasvieh_data.head()"
   ]
  },
  {
   "cell_type": "code",
   "execution_count": 101,
   "id": "90f19692",
   "metadata": {},
   "outputs": [],
   "source": [
    "payment_comp=data['payment']"
   ]
  },
  {
   "cell_type": "code",
   "execution_count": 102,
   "id": "6e07eef6",
   "metadata": {},
   "outputs": [],
   "source": [
    "tasvieh_data.sort_values(by='sheba number', inplace=True)"
   ]
  },
  {
   "cell_type": "code",
   "execution_count": 103,
   "id": "f39cedee",
   "metadata": {},
   "outputs": [],
   "source": [
    "payment_comp.sort_values(by='sheba number', inplace=True)"
   ]
  },
  {
   "cell_type": "code",
   "execution_count": 104,
   "id": "24bb9d80",
   "metadata": {},
   "outputs": [],
   "source": [
    "tasvieh_data.reset_index(drop=True, inplace=True)\n",
    "payment_comp.reset_index(drop=True, inplace=True)"
   ]
  },
  {
   "cell_type": "code",
   "execution_count": 105,
   "id": "74551b18",
   "metadata": {},
   "outputs": [],
   "source": [
    "tas_comp=tasvieh_data[['sheba number','name']]\n",
    "pay_comp=payment_comp[['sheba number','name_family']]"
   ]
  },
  {
   "cell_type": "code",
   "execution_count": 106,
   "id": "4df84b6d",
   "metadata": {},
   "outputs": [
    {
     "data": {
      "text/html": [
       "<div>\n",
       "<style scoped>\n",
       "    .dataframe tbody tr th:only-of-type {\n",
       "        vertical-align: middle;\n",
       "    }\n",
       "\n",
       "    .dataframe tbody tr th {\n",
       "        vertical-align: top;\n",
       "    }\n",
       "\n",
       "    .dataframe thead th {\n",
       "        text-align: right;\n",
       "    }\n",
       "</style>\n",
       "<table border=\"1\" class=\"dataframe\">\n",
       "  <thead>\n",
       "    <tr style=\"text-align: right;\">\n",
       "      <th></th>\n",
       "      <th>sheba number</th>\n",
       "      <th>name</th>\n",
       "      <th>name_family</th>\n",
       "    </tr>\n",
       "  </thead>\n",
       "  <tbody>\n",
       "    <tr>\n",
       "      <th>0</th>\n",
       "      <td>IR020120000000008840251909</td>\n",
       "      <td>ابوالفضل  دهقانی</td>\n",
       "      <td>ابوالفضل  دهقانی</td>\n",
       "    </tr>\n",
       "    <tr>\n",
       "      <th>1</th>\n",
       "      <td>IR020120010000000150944317</td>\n",
       "      <td>امان محمد قربانی قودنه</td>\n",
       "      <td>امان محمد قربانی قودنه</td>\n",
       "    </tr>\n",
       "    <tr>\n",
       "      <th>2</th>\n",
       "      <td>IR020120010000001437361809</td>\n",
       "      <td>علیرضا احمدی</td>\n",
       "      <td>علیرضا احمدی</td>\n",
       "    </tr>\n",
       "    <tr>\n",
       "      <th>3</th>\n",
       "      <td>IR020120010000004197615149</td>\n",
       "      <td>محمد تاقانی</td>\n",
       "      <td>محمد تاقانی</td>\n",
       "    </tr>\n",
       "    <tr>\n",
       "      <th>4</th>\n",
       "      <td>IR020120010000004247067592</td>\n",
       "      <td>حمزه خجمی‌‌</td>\n",
       "      <td>NaN</td>\n",
       "    </tr>\n",
       "    <tr>\n",
       "      <th>...</th>\n",
       "      <td>...</td>\n",
       "      <td>...</td>\n",
       "      <td>...</td>\n",
       "    </tr>\n",
       "    <tr>\n",
       "      <th>5029</th>\n",
       "      <td>IR980570350270011610720101</td>\n",
       "      <td>محمد محمدی تجلی</td>\n",
       "      <td>محمد محمدی تجلی</td>\n",
       "    </tr>\n",
       "    <tr>\n",
       "      <th>5030</th>\n",
       "      <td>IR980610000000700833300505</td>\n",
       "      <td>مصطفی  قرناسی</td>\n",
       "      <td>مصطفی  قرناسی</td>\n",
       "    </tr>\n",
       "    <tr>\n",
       "      <th>5031</th>\n",
       "      <td>IR980660000000201227875008</td>\n",
       "      <td>فرشاد جعفرآبادی</td>\n",
       "      <td>NaN</td>\n",
       "    </tr>\n",
       "    <tr>\n",
       "      <th>5032</th>\n",
       "      <td>IR980700001000117916505001</td>\n",
       "      <td>خلیل پروین</td>\n",
       "      <td>خلیل پروین</td>\n",
       "    </tr>\n",
       "    <tr>\n",
       "      <th>5033</th>\n",
       "      <td>lR080620000000302950955009</td>\n",
       "      <td>اسماعیل مشکانی</td>\n",
       "      <td>اسماعیل مشکانی</td>\n",
       "    </tr>\n",
       "  </tbody>\n",
       "</table>\n",
       "<p>5034 rows × 3 columns</p>\n",
       "</div>"
      ],
      "text/plain": [
       "                    sheba number                    name  \\\n",
       "0     IR020120000000008840251909        ابوالفضل  دهقانی   \n",
       "1     IR020120010000000150944317  امان محمد قربانی قودنه   \n",
       "2     IR020120010000001437361809            علیرضا احمدی   \n",
       "3     IR020120010000004197615149             محمد تاقانی   \n",
       "4     IR020120010000004247067592             حمزه خجمی‌‌   \n",
       "...                          ...                     ...   \n",
       "5029  IR980570350270011610720101         محمد محمدی تجلی   \n",
       "5030  IR980610000000700833300505           مصطفی  قرناسی   \n",
       "5031  IR980660000000201227875008         فرشاد جعفرآبادی   \n",
       "5032  IR980700001000117916505001              خلیل پروین   \n",
       "5033  lR080620000000302950955009          اسماعیل مشکانی   \n",
       "\n",
       "                 name_family  \n",
       "0           ابوالفضل  دهقانی  \n",
       "1     امان محمد قربانی قودنه  \n",
       "2               علیرضا احمدی  \n",
       "3                محمد تاقانی  \n",
       "4                        NaN  \n",
       "...                      ...  \n",
       "5029         محمد محمدی تجلی  \n",
       "5030           مصطفی  قرناسی  \n",
       "5031                     NaN  \n",
       "5032              خلیل پروین  \n",
       "5033          اسماعیل مشکانی  \n",
       "\n",
       "[5034 rows x 3 columns]"
      ]
     },
     "execution_count": 106,
     "metadata": {},
     "output_type": "execute_result"
    }
   ],
   "source": [
    "pd.merge(tas_comp,pay_comp, on='sheba number', how='left')"
   ]
  },
  {
   "cell_type": "code",
   "execution_count": 107,
   "id": "50c3d19a",
   "metadata": {},
   "outputs": [],
   "source": [
    "ccc=pd.merge(tas_comp,pay_comp, on='sheba number', how='right')"
   ]
  },
  {
   "cell_type": "code",
   "execution_count": 108,
   "id": "99ee6bff",
   "metadata": {},
   "outputs": [
    {
     "data": {
      "text/html": [
       "<div>\n",
       "<style scoped>\n",
       "    .dataframe tbody tr th:only-of-type {\n",
       "        vertical-align: middle;\n",
       "    }\n",
       "\n",
       "    .dataframe tbody tr th {\n",
       "        vertical-align: top;\n",
       "    }\n",
       "\n",
       "    .dataframe thead th {\n",
       "        text-align: right;\n",
       "    }\n",
       "</style>\n",
       "<table border=\"1\" class=\"dataframe\">\n",
       "  <thead>\n",
       "    <tr style=\"text-align: right;\">\n",
       "      <th></th>\n",
       "      <th>sheba number</th>\n",
       "      <th>name</th>\n",
       "      <th>name_family</th>\n",
       "    </tr>\n",
       "  </thead>\n",
       "  <tbody>\n",
       "    <tr>\n",
       "      <th>8</th>\n",
       "      <td>IR020150000000501301988304</td>\n",
       "      <td>NaN</td>\n",
       "      <td>اسماعیل سرای لو</td>\n",
       "    </tr>\n",
       "    <tr>\n",
       "      <th>9</th>\n",
       "      <td>IR020150000001274301671701</td>\n",
       "      <td>NaN</td>\n",
       "      <td>مقداد  پرموزه</td>\n",
       "    </tr>\n",
       "    <tr>\n",
       "      <th>13</th>\n",
       "      <td>IR020160000000000268487941</td>\n",
       "      <td>NaN</td>\n",
       "      <td>عبدالله هرمزی</td>\n",
       "    </tr>\n",
       "    <tr>\n",
       "      <th>19</th>\n",
       "      <td>IR020170000000331729620005</td>\n",
       "      <td>NaN</td>\n",
       "      <td>مسلم نیازیان</td>\n",
       "    </tr>\n",
       "    <tr>\n",
       "      <th>36</th>\n",
       "      <td>IR020190000000308358733008</td>\n",
       "      <td>NaN</td>\n",
       "      <td>بهمن حیدرنیا</td>\n",
       "    </tr>\n",
       "    <tr>\n",
       "      <th>...</th>\n",
       "      <td>...</td>\n",
       "      <td>...</td>\n",
       "      <td>...</td>\n",
       "    </tr>\n",
       "    <tr>\n",
       "      <th>5463</th>\n",
       "      <td>IR980190000000112040314007</td>\n",
       "      <td>NaN</td>\n",
       "      <td>محسن فریمانهء</td>\n",
       "    </tr>\n",
       "    <tr>\n",
       "      <th>5464</th>\n",
       "      <td>IR980190000000330471607007</td>\n",
       "      <td>NaN</td>\n",
       "      <td>حسن سردارآبادی</td>\n",
       "    </tr>\n",
       "    <tr>\n",
       "      <th>5467</th>\n",
       "      <td>IR980540101582000304504009</td>\n",
       "      <td>NaN</td>\n",
       "      <td>محسن محمدی</td>\n",
       "    </tr>\n",
       "    <tr>\n",
       "      <th>5476</th>\n",
       "      <td>IR980570031480015043436101</td>\n",
       "      <td>NaN</td>\n",
       "      <td>محمد بنیادی</td>\n",
       "    </tr>\n",
       "    <tr>\n",
       "      <th>5481</th>\n",
       "      <td>IR980610000000700833583357</td>\n",
       "      <td>NaN</td>\n",
       "      <td>مصطفی  صانعی ممر آبادی</td>\n",
       "    </tr>\n",
       "  </tbody>\n",
       "</table>\n",
       "<p>1282 rows × 3 columns</p>\n",
       "</div>"
      ],
      "text/plain": [
       "                    sheba number name             name_family\n",
       "8     IR020150000000501301988304  NaN         اسماعیل سرای لو\n",
       "9     IR020150000001274301671701  NaN           مقداد  پرموزه\n",
       "13    IR020160000000000268487941  NaN           عبدالله هرمزی\n",
       "19    IR020170000000331729620005  NaN            مسلم نیازیان\n",
       "36    IR020190000000308358733008  NaN            بهمن حیدرنیا\n",
       "...                          ...  ...                     ...\n",
       "5463  IR980190000000112040314007  NaN           محسن فریمانهء\n",
       "5464  IR980190000000330471607007  NaN          حسن سردارآبادی\n",
       "5467  IR980540101582000304504009  NaN              محسن محمدی\n",
       "5476  IR980570031480015043436101  NaN             محمد بنیادی\n",
       "5481  IR980610000000700833583357  NaN  مصطفی  صانعی ممر آبادی\n",
       "\n",
       "[1282 rows x 3 columns]"
      ]
     },
     "execution_count": 108,
     "metadata": {},
     "output_type": "execute_result"
    }
   ],
   "source": [
    "ccc[ccc['name'].isnull()]"
   ]
  },
  {
   "cell_type": "code",
   "execution_count": 109,
   "id": "62403bb2",
   "metadata": {},
   "outputs": [
    {
     "data": {
      "text/plain": [
       "1282"
      ]
     },
     "execution_count": 109,
     "metadata": {},
     "output_type": "execute_result"
    }
   ],
   "source": [
    "ccc['name'].isnull().sum()"
   ]
  },
  {
   "cell_type": "code",
   "execution_count": 110,
   "id": "f8cb6dc4",
   "metadata": {},
   "outputs": [
    {
     "data": {
      "text/plain": [
       "0"
      ]
     },
     "execution_count": 110,
     "metadata": {},
     "output_type": "execute_result"
    }
   ],
   "source": [
    "ccc['name_family'].isnull().sum()"
   ]
  },
  {
   "cell_type": "code",
   "execution_count": 111,
   "id": "ad6146a8",
   "metadata": {},
   "outputs": [
    {
     "data": {
      "text/plain": [
       "(5484, 34)"
      ]
     },
     "execution_count": 111,
     "metadata": {},
     "output_type": "execute_result"
    }
   ],
   "source": [
    "payment_comp.shape"
   ]
  },
  {
   "cell_type": "code",
   "execution_count": 112,
   "id": "78c562aa",
   "metadata": {},
   "outputs": [
    {
     "data": {
      "text/plain": [
       "(5034, 2)"
      ]
     },
     "execution_count": 112,
     "metadata": {},
     "output_type": "execute_result"
    }
   ],
   "source": [
    "tas_comp.shape"
   ]
  },
  {
   "cell_type": "code",
   "execution_count": 113,
   "id": "e56de4d4",
   "metadata": {},
   "outputs": [],
   "source": [
    "tasvieh_data['concated']=tasvieh_data['sheba number'].apply(str)+'_'+tasvieh_data['name'].apply(str)+'_'+tasvieh_data['payable'].apply(str)\n",
    "payment_comp['concated']=payment_comp['sheba number'].apply(str)+'_'+payment_comp['name_family'].apply(str)+'_'+payment_comp['rial_payable'].apply(str)"
   ]
  },
  {
   "cell_type": "code",
   "execution_count": 114,
   "id": "65f5e48b",
   "metadata": {},
   "outputs": [
    {
     "name": "stdout",
     "output_type": "stream",
     "text": [
      "5034\n",
      "5484\n"
     ]
    }
   ],
   "source": [
    "print(len(tasvieh_data['concated']))\n",
    "print(len(payment_comp['concated']))"
   ]
  },
  {
   "cell_type": "code",
   "execution_count": 115,
   "id": "b054447a",
   "metadata": {
    "scrolled": true
   },
   "outputs": [
    {
     "ename": "ValueError",
     "evalue": "Can only compare identically-labeled Series objects",
     "output_type": "error",
     "traceback": [
      "\u001b[1;31m---------------------------------------------------------------------------\u001b[0m",
      "\u001b[1;31mValueError\u001b[0m                                Traceback (most recent call last)",
      "\u001b[1;32m~\\AppData\\Local\\Temp\\ipykernel_19528\\872524173.py\u001b[0m in \u001b[0;36m<module>\u001b[1;34m\u001b[0m\n\u001b[1;32m----> 1\u001b[1;33m \u001b[0mtasvieh_data\u001b[0m\u001b[1;33m[\u001b[0m\u001b[1;34m'concated'\u001b[0m\u001b[1;33m]\u001b[0m\u001b[1;33m.\u001b[0m\u001b[0mcompare\u001b[0m\u001b[1;33m(\u001b[0m\u001b[0mpayment_comp\u001b[0m\u001b[1;33m[\u001b[0m\u001b[1;34m'concated'\u001b[0m\u001b[1;33m]\u001b[0m\u001b[1;33m)\u001b[0m\u001b[1;31m#.to_excel('E:/Weekly Payments/pay_tas_diff.xlsx')\u001b[0m\u001b[1;33m\u001b[0m\u001b[1;33m\u001b[0m\u001b[0m\n\u001b[0m",
      "\u001b[1;32mc:\\users\\snappfood\\appdata\\local\\programs\\python\\python37\\lib\\site-packages\\pandas\\core\\series.py\u001b[0m in \u001b[0;36mcompare\u001b[1;34m(self, other, align_axis, keep_shape, keep_equal)\u001b[0m\n\u001b[0;32m   2844\u001b[0m             \u001b[0malign_axis\u001b[0m\u001b[1;33m=\u001b[0m\u001b[0malign_axis\u001b[0m\u001b[1;33m,\u001b[0m\u001b[1;33m\u001b[0m\u001b[1;33m\u001b[0m\u001b[0m\n\u001b[0;32m   2845\u001b[0m             \u001b[0mkeep_shape\u001b[0m\u001b[1;33m=\u001b[0m\u001b[0mkeep_shape\u001b[0m\u001b[1;33m,\u001b[0m\u001b[1;33m\u001b[0m\u001b[1;33m\u001b[0m\u001b[0m\n\u001b[1;32m-> 2846\u001b[1;33m             \u001b[0mkeep_equal\u001b[0m\u001b[1;33m=\u001b[0m\u001b[0mkeep_equal\u001b[0m\u001b[1;33m,\u001b[0m\u001b[1;33m\u001b[0m\u001b[1;33m\u001b[0m\u001b[0m\n\u001b[0m\u001b[0;32m   2847\u001b[0m         )\n\u001b[0;32m   2848\u001b[0m \u001b[1;33m\u001b[0m\u001b[0m\n",
      "\u001b[1;32mc:\\users\\snappfood\\appdata\\local\\programs\\python\\python37\\lib\\site-packages\\pandas\\core\\generic.py\u001b[0m in \u001b[0;36mcompare\u001b[1;34m(self, other, align_axis, keep_shape, keep_equal)\u001b[0m\n\u001b[0;32m   8656\u001b[0m             )\n\u001b[0;32m   8657\u001b[0m \u001b[1;33m\u001b[0m\u001b[0m\n\u001b[1;32m-> 8658\u001b[1;33m         \u001b[0mmask\u001b[0m \u001b[1;33m=\u001b[0m \u001b[1;33m~\u001b[0m\u001b[1;33m(\u001b[0m\u001b[1;33m(\u001b[0m\u001b[0mself\u001b[0m \u001b[1;33m==\u001b[0m \u001b[0mother\u001b[0m\u001b[1;33m)\u001b[0m \u001b[1;33m|\u001b[0m \u001b[1;33m(\u001b[0m\u001b[0mself\u001b[0m\u001b[1;33m.\u001b[0m\u001b[0misna\u001b[0m\u001b[1;33m(\u001b[0m\u001b[1;33m)\u001b[0m \u001b[1;33m&\u001b[0m \u001b[0mother\u001b[0m\u001b[1;33m.\u001b[0m\u001b[0misna\u001b[0m\u001b[1;33m(\u001b[0m\u001b[1;33m)\u001b[0m\u001b[1;33m)\u001b[0m\u001b[1;33m)\u001b[0m\u001b[1;33m\u001b[0m\u001b[1;33m\u001b[0m\u001b[0m\n\u001b[0m\u001b[0;32m   8659\u001b[0m         \u001b[0mkeys\u001b[0m \u001b[1;33m=\u001b[0m \u001b[1;33m[\u001b[0m\u001b[1;34m\"self\"\u001b[0m\u001b[1;33m,\u001b[0m \u001b[1;34m\"other\"\u001b[0m\u001b[1;33m]\u001b[0m\u001b[1;33m\u001b[0m\u001b[1;33m\u001b[0m\u001b[0m\n\u001b[0;32m   8660\u001b[0m \u001b[1;33m\u001b[0m\u001b[0m\n",
      "\u001b[1;32mc:\\users\\snappfood\\appdata\\local\\programs\\python\\python37\\lib\\site-packages\\pandas\\core\\ops\\common.py\u001b[0m in \u001b[0;36mnew_method\u001b[1;34m(self, other)\u001b[0m\n\u001b[0;32m     63\u001b[0m         \u001b[0mother\u001b[0m \u001b[1;33m=\u001b[0m \u001b[0mitem_from_zerodim\u001b[0m\u001b[1;33m(\u001b[0m\u001b[0mother\u001b[0m\u001b[1;33m)\u001b[0m\u001b[1;33m\u001b[0m\u001b[1;33m\u001b[0m\u001b[0m\n\u001b[0;32m     64\u001b[0m \u001b[1;33m\u001b[0m\u001b[0m\n\u001b[1;32m---> 65\u001b[1;33m         \u001b[1;32mreturn\u001b[0m \u001b[0mmethod\u001b[0m\u001b[1;33m(\u001b[0m\u001b[0mself\u001b[0m\u001b[1;33m,\u001b[0m \u001b[0mother\u001b[0m\u001b[1;33m)\u001b[0m\u001b[1;33m\u001b[0m\u001b[1;33m\u001b[0m\u001b[0m\n\u001b[0m\u001b[0;32m     66\u001b[0m \u001b[1;33m\u001b[0m\u001b[0m\n\u001b[0;32m     67\u001b[0m     \u001b[1;32mreturn\u001b[0m \u001b[0mnew_method\u001b[0m\u001b[1;33m\u001b[0m\u001b[1;33m\u001b[0m\u001b[0m\n",
      "\u001b[1;32mc:\\users\\snappfood\\appdata\\local\\programs\\python\\python37\\lib\\site-packages\\pandas\\core\\arraylike.py\u001b[0m in \u001b[0;36m__eq__\u001b[1;34m(self, other)\u001b[0m\n\u001b[0;32m     27\u001b[0m     \u001b[1;33m@\u001b[0m\u001b[0munpack_zerodim_and_defer\u001b[0m\u001b[1;33m(\u001b[0m\u001b[1;34m\"__eq__\"\u001b[0m\u001b[1;33m)\u001b[0m\u001b[1;33m\u001b[0m\u001b[1;33m\u001b[0m\u001b[0m\n\u001b[0;32m     28\u001b[0m     \u001b[1;32mdef\u001b[0m \u001b[0m__eq__\u001b[0m\u001b[1;33m(\u001b[0m\u001b[0mself\u001b[0m\u001b[1;33m,\u001b[0m \u001b[0mother\u001b[0m\u001b[1;33m)\u001b[0m\u001b[1;33m:\u001b[0m\u001b[1;33m\u001b[0m\u001b[1;33m\u001b[0m\u001b[0m\n\u001b[1;32m---> 29\u001b[1;33m         \u001b[1;32mreturn\u001b[0m \u001b[0mself\u001b[0m\u001b[1;33m.\u001b[0m\u001b[0m_cmp_method\u001b[0m\u001b[1;33m(\u001b[0m\u001b[0mother\u001b[0m\u001b[1;33m,\u001b[0m \u001b[0moperator\u001b[0m\u001b[1;33m.\u001b[0m\u001b[0meq\u001b[0m\u001b[1;33m)\u001b[0m\u001b[1;33m\u001b[0m\u001b[1;33m\u001b[0m\u001b[0m\n\u001b[0m\u001b[0;32m     30\u001b[0m \u001b[1;33m\u001b[0m\u001b[0m\n\u001b[0;32m     31\u001b[0m     \u001b[1;33m@\u001b[0m\u001b[0munpack_zerodim_and_defer\u001b[0m\u001b[1;33m(\u001b[0m\u001b[1;34m\"__ne__\"\u001b[0m\u001b[1;33m)\u001b[0m\u001b[1;33m\u001b[0m\u001b[1;33m\u001b[0m\u001b[0m\n",
      "\u001b[1;32mc:\\users\\snappfood\\appdata\\local\\programs\\python\\python37\\lib\\site-packages\\pandas\\core\\series.py\u001b[0m in \u001b[0;36m_cmp_method\u001b[1;34m(self, other, op)\u001b[0m\n\u001b[0;32m   4971\u001b[0m \u001b[1;33m\u001b[0m\u001b[0m\n\u001b[0;32m   4972\u001b[0m         \u001b[1;32mif\u001b[0m \u001b[0misinstance\u001b[0m\u001b[1;33m(\u001b[0m\u001b[0mother\u001b[0m\u001b[1;33m,\u001b[0m \u001b[0mSeries\u001b[0m\u001b[1;33m)\u001b[0m \u001b[1;32mand\u001b[0m \u001b[1;32mnot\u001b[0m \u001b[0mself\u001b[0m\u001b[1;33m.\u001b[0m\u001b[0m_indexed_same\u001b[0m\u001b[1;33m(\u001b[0m\u001b[0mother\u001b[0m\u001b[1;33m)\u001b[0m\u001b[1;33m:\u001b[0m\u001b[1;33m\u001b[0m\u001b[1;33m\u001b[0m\u001b[0m\n\u001b[1;32m-> 4973\u001b[1;33m             \u001b[1;32mraise\u001b[0m \u001b[0mValueError\u001b[0m\u001b[1;33m(\u001b[0m\u001b[1;34m\"Can only compare identically-labeled Series objects\"\u001b[0m\u001b[1;33m)\u001b[0m\u001b[1;33m\u001b[0m\u001b[1;33m\u001b[0m\u001b[0m\n\u001b[0m\u001b[0;32m   4974\u001b[0m \u001b[1;33m\u001b[0m\u001b[0m\n\u001b[0;32m   4975\u001b[0m         \u001b[0mlvalues\u001b[0m \u001b[1;33m=\u001b[0m \u001b[0mextract_array\u001b[0m\u001b[1;33m(\u001b[0m\u001b[0mself\u001b[0m\u001b[1;33m,\u001b[0m \u001b[0mextract_numpy\u001b[0m\u001b[1;33m=\u001b[0m\u001b[1;32mTrue\u001b[0m\u001b[1;33m)\u001b[0m\u001b[1;33m\u001b[0m\u001b[1;33m\u001b[0m\u001b[0m\n",
      "\u001b[1;31mValueError\u001b[0m: Can only compare identically-labeled Series objects"
     ]
    }
   ],
   "source": [
    "tasvieh_data['concated'].compare(payment_comp['concated'])#.to_excel('E:/Weekly Payments/pay_tas_diff.xlsx')"
   ]
  },
  {
   "cell_type": "code",
   "execution_count": null,
   "id": "31f95196",
   "metadata": {},
   "outputs": [],
   "source": [
    "comparison_column = np.where(tasvieh_data['concated'] == payment_comp['concated'], True, False)"
   ]
  },
  {
   "cell_type": "code",
   "execution_count": null,
   "id": "1b660260",
   "metadata": {},
   "outputs": [],
   "source": [
    "tas_comp=pd.merge(tasvieh_data,payment_comp, on='concated', how='left')"
   ]
  },
  {
   "cell_type": "code",
   "execution_count": null,
   "id": "b95bb93a",
   "metadata": {},
   "outputs": [],
   "source": [
    "tas_comp[tas_comp['rial_payable']==None]"
   ]
  },
  {
   "cell_type": "code",
   "execution_count": null,
   "id": "70c646ae",
   "metadata": {},
   "outputs": [],
   "source": [
    "len(tas_comp)"
   ]
  },
  {
   "cell_type": "code",
   "execution_count": null,
   "id": "7da75f58",
   "metadata": {},
   "outputs": [],
   "source": [
    "for i in range(len(comparison_column)):\n",
    "    if comparison_column[i]==False:\n",
    "        print('false')\n",
    "        print(i)"
   ]
  },
  {
   "cell_type": "code",
   "execution_count": null,
   "id": "9912ad8c",
   "metadata": {},
   "outputs": [],
   "source": [
    "if len(data['payment']==len(tasvieh_data)):\n",
    "    print('Both have the same number of data')"
   ]
  },
  {
   "cell_type": "code",
   "execution_count": null,
   "id": "94d8022c",
   "metadata": {},
   "outputs": [],
   "source": [
    "# compare Sheba numbers\n",
    "payment_sheba=data['payment']['sheba number'].values\n",
    "tasvieh_data_sheba=tasvieh_data['sheba number'].values"
   ]
  },
  {
   "cell_type": "code",
   "execution_count": null,
   "id": "1d4a9c38",
   "metadata": {},
   "outputs": [],
   "source": [
    "tasvieh_data.sort_values(by=['sheba number'], inplace=True)"
   ]
  },
  {
   "cell_type": "code",
   "execution_count": null,
   "id": "1f607a42",
   "metadata": {},
   "outputs": [],
   "source": [
    "data['payment'].sort_values(by=['sheba number'], inplace=True)\n",
    "tasvieh_data.sort_values(by=['sheba number'], inplace=True)"
   ]
  },
  {
   "cell_type": "code",
   "execution_count": null,
   "id": "24af3615",
   "metadata": {},
   "outputs": [],
   "source": [
    "tasvieh_data.reset_index(drop=True, inplace=True)\n",
    "data['payment'].reset_index(drop=True, inplace=True)"
   ]
  },
  {
   "cell_type": "code",
   "execution_count": null,
   "id": "b54f83d0",
   "metadata": {},
   "outputs": [],
   "source": [
    "#data['Payment']['Total Payable']=data['Payment']['Total Payable']*100"
   ]
  },
  {
   "cell_type": "code",
   "execution_count": null,
   "id": "e6e40fd0",
   "metadata": {},
   "outputs": [],
   "source": [
    "len(tasvieh_data['sheba number'].values)"
   ]
  },
  {
   "cell_type": "code",
   "execution_count": null,
   "id": "42d05039",
   "metadata": {
    "scrolled": true
   },
   "outputs": [],
   "source": [
    "tasvieh_data.head()"
   ]
  },
  {
   "cell_type": "code",
   "execution_count": null,
   "id": "a2e42019",
   "metadata": {},
   "outputs": [],
   "source": [
    "data['payment'].head()"
   ]
  },
  {
   "cell_type": "code",
   "execution_count": null,
   "id": "63d50e75",
   "metadata": {},
   "outputs": [],
   "source": [
    "# financial_differ=[]"
   ]
  },
  {
   "cell_type": "code",
   "execution_count": null,
   "id": "bc212069",
   "metadata": {},
   "outputs": [],
   "source": [
    "# counter=0\n",
    "# for i in range(len(data['Payment'])):\n",
    "#     a=data['Payment'].iloc[i]\n",
    "#     b=tasvieh_data.iloc[i]\n",
    "#     if (a['name_family']==b['name']) and (a['Sheba Number']==b['Sheba Number']) and (int(a['rial_payable'])==b['payable']):\n",
    "#         counter+=1\n",
    "#     else:\n",
    "#         print(a['name_family'])\n",
    "#         print(b['name'])\n",
    "#         print(a['name_family']==b['name'])\n",
    "#         print(a['Sheba Number'],b['Sheba Number'])\n",
    "#         print(a['Sheba Number']==b['Sheba Number'])\n",
    "#         print(a['rial_payable']==int(b['payable']))\n",
    "#         print(a['rial_payable'],int(b['payable']))\n",
    "#         print(int(a['rial_payable']))\n",
    "#         print(int(b['payable']))\n",
    "#         financial_differ.append(a['name_family'])\n",
    "#         financial_differ.append(b['name'])\n",
    "#         financial_differ.append(a['Sheba Number'])\n",
    "#         financial_differ.append(a['rial_payable'])\n",
    "# print(counter)\n",
    "# print(financial_differ)"
   ]
  },
  {
   "cell_type": "code",
   "execution_count": null,
   "id": "787f5737",
   "metadata": {},
   "outputs": [],
   "source": [
    "if sum(data['payment']['rial_payable'])==sum(tasvieh_data['payable']):\n",
    "    print('equal payment summation in both files')"
   ]
  },
  {
   "cell_type": "code",
   "execution_count": null,
   "id": "45235079",
   "metadata": {},
   "outputs": [],
   "source": [
    "print(sum(data['payment']['rial_payable']))"
   ]
  },
  {
   "cell_type": "code",
   "execution_count": null,
   "id": "5a3cfde9",
   "metadata": {},
   "outputs": [],
   "source": [
    "print(sum(tasvieh_data['payable']))"
   ]
  },
  {
   "cell_type": "code",
   "execution_count": null,
   "id": "46f5aa05",
   "metadata": {},
   "outputs": [],
   "source": []
  },
  {
   "cell_type": "code",
   "execution_count": null,
   "id": "9f3a9c1d",
   "metadata": {},
   "outputs": [],
   "source": []
  }
 ],
 "metadata": {
  "kernelspec": {
   "display_name": "Python 3 (ipykernel)",
   "language": "python",
   "name": "python3"
  },
  "language_info": {
   "codemirror_mode": {
    "name": "ipython",
    "version": 3
   },
   "file_extension": ".py",
   "mimetype": "text/x-python",
   "name": "python",
   "nbconvert_exporter": "python",
   "pygments_lexer": "ipython3",
   "version": "3.9.7"
  }
 },
 "nbformat": 4,
 "nbformat_minor": 5
}
